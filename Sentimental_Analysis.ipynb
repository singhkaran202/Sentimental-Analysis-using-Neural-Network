{
  "nbformat": 4,
  "nbformat_minor": 0,
  "metadata": {
    "colab": {
      "provenance": [],
      "include_colab_link": true
    },
    "kernelspec": {
      "name": "python3",
      "display_name": "Python 3"
    },
    "language_info": {
      "name": "python"
    }
  },
  "cells": [
    {
      "cell_type": "markdown",
      "metadata": {
        "id": "view-in-github",
        "colab_type": "text"
      },
      "source": [
        "<a href=\"https://colab.research.google.com/github/singhkaran202/Sentimental-Analysis-using-Neural-Network/blob/main/Sentimental_Analysis.ipynb\" target=\"_parent\"><img src=\"https://colab.research.google.com/assets/colab-badge.svg\" alt=\"Open In Colab\"/></a>"
      ]
    },
    {
      "cell_type": "code",
      "source": [
        "import pandas as pd\n",
        "import numpy as np\n",
        "import re\n",
        "import nltk\n",
        "from nltk.corpus import stopwords\n",
        "\n",
        "from numpy import array\n",
        "from keras.preprocessing.text import one_hot\n",
        "from keras.preprocessing.sequence import pad_sequences\n",
        "from keras.models import Sequential\n",
        "from keras.layers.core import Activation, Dropout, Dense\n",
        "from keras.layers import Flatten\n",
        "from keras.layers import GlobalMaxPooling1D\n",
        "from keras.layers.embeddings import Embedding\n",
        "from sklearn.model_selection import train_test_split\n",
        "from keras.preprocessing.text import Tokenizer"
      ],
      "metadata": {
        "id": "E-X8mVNaVee6"
      },
      "execution_count": null,
      "outputs": []
    },
    {
      "cell_type": "code",
      "execution_count": null,
      "metadata": {
        "id": "I32ZkgjT32Xe",
        "colab": {
          "base_uri": "https://localhost:8080/"
        },
        "outputId": "06f5023b-de76-4538-b2f9-1b2a27d2922a"
      },
      "outputs": [
        {
          "output_type": "stream",
          "name": "stdout",
          "text": [
            "Mounted at /content/gdrive\n"
          ]
        }
      ],
      "source": [
        "from google.colab import drive\n",
        "drive.mount('/content/gdrive')"
      ]
    },
    {
      "cell_type": "code",
      "source": [
        "import pandas as pd\n",
        "movie_reviews=pd.read_csv('/content/gdrive/MyDrive/IMDB_Dataset_1400.csv')\n",
        "movie_reviews.head()"
      ],
      "metadata": {
        "id": "BJS5jaap8VT_",
        "colab": {
          "base_uri": "https://localhost:8080/",
          "height": 206
        },
        "outputId": "c293da5d-ae8c-43d5-ea29-c01f8a219717"
      },
      "execution_count": null,
      "outputs": [
        {
          "output_type": "execute_result",
          "data": {
            "text/plain": [
              "                                              review sentiment\n",
              "0  One of the other reviewers has mentioned that ...  positive\n",
              "1  A wonderful little production. <br /><br />The...  positive\n",
              "2  I thought this was a wonderful way to spend ti...  positive\n",
              "3  Basically there's a family where a little boy ...  negative\n",
              "4  Petter Mattei's \"Love in the Time of Money\" is...  positive"
            ],
            "text/html": [
              "\n",
              "  <div id=\"df-947c883b-7ee5-4efe-a462-b6662ec9fbc7\">\n",
              "    <div class=\"colab-df-container\">\n",
              "      <div>\n",
              "<style scoped>\n",
              "    .dataframe tbody tr th:only-of-type {\n",
              "        vertical-align: middle;\n",
              "    }\n",
              "\n",
              "    .dataframe tbody tr th {\n",
              "        vertical-align: top;\n",
              "    }\n",
              "\n",
              "    .dataframe thead th {\n",
              "        text-align: right;\n",
              "    }\n",
              "</style>\n",
              "<table border=\"1\" class=\"dataframe\">\n",
              "  <thead>\n",
              "    <tr style=\"text-align: right;\">\n",
              "      <th></th>\n",
              "      <th>review</th>\n",
              "      <th>sentiment</th>\n",
              "    </tr>\n",
              "  </thead>\n",
              "  <tbody>\n",
              "    <tr>\n",
              "      <th>0</th>\n",
              "      <td>One of the other reviewers has mentioned that ...</td>\n",
              "      <td>positive</td>\n",
              "    </tr>\n",
              "    <tr>\n",
              "      <th>1</th>\n",
              "      <td>A wonderful little production. &lt;br /&gt;&lt;br /&gt;The...</td>\n",
              "      <td>positive</td>\n",
              "    </tr>\n",
              "    <tr>\n",
              "      <th>2</th>\n",
              "      <td>I thought this was a wonderful way to spend ti...</td>\n",
              "      <td>positive</td>\n",
              "    </tr>\n",
              "    <tr>\n",
              "      <th>3</th>\n",
              "      <td>Basically there's a family where a little boy ...</td>\n",
              "      <td>negative</td>\n",
              "    </tr>\n",
              "    <tr>\n",
              "      <th>4</th>\n",
              "      <td>Petter Mattei's \"Love in the Time of Money\" is...</td>\n",
              "      <td>positive</td>\n",
              "    </tr>\n",
              "  </tbody>\n",
              "</table>\n",
              "</div>\n",
              "      <button class=\"colab-df-convert\" onclick=\"convertToInteractive('df-947c883b-7ee5-4efe-a462-b6662ec9fbc7')\"\n",
              "              title=\"Convert this dataframe to an interactive table.\"\n",
              "              style=\"display:none;\">\n",
              "        \n",
              "  <svg xmlns=\"http://www.w3.org/2000/svg\" height=\"24px\"viewBox=\"0 0 24 24\"\n",
              "       width=\"24px\">\n",
              "    <path d=\"M0 0h24v24H0V0z\" fill=\"none\"/>\n",
              "    <path d=\"M18.56 5.44l.94 2.06.94-2.06 2.06-.94-2.06-.94-.94-2.06-.94 2.06-2.06.94zm-11 1L8.5 8.5l.94-2.06 2.06-.94-2.06-.94L8.5 2.5l-.94 2.06-2.06.94zm10 10l.94 2.06.94-2.06 2.06-.94-2.06-.94-.94-2.06-.94 2.06-2.06.94z\"/><path d=\"M17.41 7.96l-1.37-1.37c-.4-.4-.92-.59-1.43-.59-.52 0-1.04.2-1.43.59L10.3 9.45l-7.72 7.72c-.78.78-.78 2.05 0 2.83L4 21.41c.39.39.9.59 1.41.59.51 0 1.02-.2 1.41-.59l7.78-7.78 2.81-2.81c.8-.78.8-2.07 0-2.86zM5.41 20L4 18.59l7.72-7.72 1.47 1.35L5.41 20z\"/>\n",
              "  </svg>\n",
              "      </button>\n",
              "      \n",
              "  <style>\n",
              "    .colab-df-container {\n",
              "      display:flex;\n",
              "      flex-wrap:wrap;\n",
              "      gap: 12px;\n",
              "    }\n",
              "\n",
              "    .colab-df-convert {\n",
              "      background-color: #E8F0FE;\n",
              "      border: none;\n",
              "      border-radius: 50%;\n",
              "      cursor: pointer;\n",
              "      display: none;\n",
              "      fill: #1967D2;\n",
              "      height: 32px;\n",
              "      padding: 0 0 0 0;\n",
              "      width: 32px;\n",
              "    }\n",
              "\n",
              "    .colab-df-convert:hover {\n",
              "      background-color: #E2EBFA;\n",
              "      box-shadow: 0px 1px 2px rgba(60, 64, 67, 0.3), 0px 1px 3px 1px rgba(60, 64, 67, 0.15);\n",
              "      fill: #174EA6;\n",
              "    }\n",
              "\n",
              "    [theme=dark] .colab-df-convert {\n",
              "      background-color: #3B4455;\n",
              "      fill: #D2E3FC;\n",
              "    }\n",
              "\n",
              "    [theme=dark] .colab-df-convert:hover {\n",
              "      background-color: #434B5C;\n",
              "      box-shadow: 0px 1px 3px 1px rgba(0, 0, 0, 0.15);\n",
              "      filter: drop-shadow(0px 1px 2px rgba(0, 0, 0, 0.3));\n",
              "      fill: #FFFFFF;\n",
              "    }\n",
              "  </style>\n",
              "\n",
              "      <script>\n",
              "        const buttonEl =\n",
              "          document.querySelector('#df-947c883b-7ee5-4efe-a462-b6662ec9fbc7 button.colab-df-convert');\n",
              "        buttonEl.style.display =\n",
              "          google.colab.kernel.accessAllowed ? 'block' : 'none';\n",
              "\n",
              "        async function convertToInteractive(key) {\n",
              "          const element = document.querySelector('#df-947c883b-7ee5-4efe-a462-b6662ec9fbc7');\n",
              "          const dataTable =\n",
              "            await google.colab.kernel.invokeFunction('convertToInteractive',\n",
              "                                                     [key], {});\n",
              "          if (!dataTable) return;\n",
              "\n",
              "          const docLinkHtml = 'Like what you see? Visit the ' +\n",
              "            '<a target=\"_blank\" href=https://colab.research.google.com/notebooks/data_table.ipynb>data table notebook</a>'\n",
              "            + ' to learn more about interactive tables.';\n",
              "          element.innerHTML = '';\n",
              "          dataTable['output_type'] = 'display_data';\n",
              "          await google.colab.output.renderOutput(dataTable, element);\n",
              "          const docLink = document.createElement('div');\n",
              "          docLink.innerHTML = docLinkHtml;\n",
              "          element.appendChild(docLink);\n",
              "        }\n",
              "      </script>\n",
              "    </div>\n",
              "  </div>\n",
              "  "
            ]
          },
          "metadata": {},
          "execution_count": 25
        }
      ]
    },
    {
      "cell_type": "code",
      "source": [
        "movie_reviews[\"review\"][3]"
      ],
      "metadata": {
        "colab": {
          "base_uri": "https://localhost:8080/",
          "height": 105
        },
        "id": "AdemH3CfVq6K",
        "outputId": "b35523e1-4fc9-4807-c769-eea1c83d9e73"
      },
      "execution_count": null,
      "outputs": [
        {
          "output_type": "execute_result",
          "data": {
            "text/plain": [
              "\"Basically there's a family where a little boy (Jake) thinks there's a zombie in his closet & his parents are fighting all the time.<br /><br />This movie is slower than a soap opera... and suddenly, Jake decides to become Rambo and kill the zombie.<br /><br />OK, first of all when you're going to make a film you must Decide if its a thriller or a drama! As a drama the movie is watchable. Parents are divorcing & arguing like in real life. And then we have Jake with his closet which totally ruins all the film! I expected to see a BOOGEYMAN similar movie, and instead i watched a drama with some meaningless thriller spots.<br /><br />3 out of 10 just for the well playing parents & descent dialogs. As for the shots with Jake: just ignore them.\""
            ],
            "application/vnd.google.colaboratory.intrinsic+json": {
              "type": "string"
            }
          },
          "metadata": {},
          "execution_count": 26
        }
      ]
    },
    {
      "cell_type": "code",
      "source": [
        "import seaborn as sns\n",
        "sns.countplot(x='sentiment', data=movie_reviews)"
      ],
      "metadata": {
        "colab": {
          "base_uri": "https://localhost:8080/",
          "height": 296
        },
        "id": "pViixDZ9Vq9q",
        "outputId": "51a5ae2d-7677-404e-c8b0-75c09d02ba2a"
      },
      "execution_count": null,
      "outputs": [
        {
          "output_type": "execute_result",
          "data": {
            "text/plain": [
              "<matplotlib.axes._subplots.AxesSubplot at 0x7f31e3d10110>"
            ]
          },
          "metadata": {},
          "execution_count": 27
        },
        {
          "output_type": "display_data",
          "data": {
            "text/plain": [
              "<Figure size 432x288 with 1 Axes>"
            ],
            "image/png": "[encoded data removed]"
          },
          "metadata": {
            "needs_background": "light"
          }
        }
      ]
    },
    {
      "cell_type": "code",
      "source": [
        "def preprocess_text(sen):\n",
        "    # Removing html tags\n",
        "    sentence = remove_tags(sen)\n",
        "\n",
        "    # Remove punctuations and numbers\n",
        "    sentence = re.sub('[^a-zA-Z]', ' ', sentence)\n",
        "\n",
        "    # Single character removal\n",
        "    sentence = re.sub(r\"\\s+[a-zA-Z]\\s+\", ' ', sentence)\n",
        "\n",
        "    # Removing multiple spaces\n",
        "    sentence = re.sub(r'\\s+', ' ', sentence)\n",
        "\n",
        "    return sentence"
      ],
      "metadata": {
        "id": "T4SJOhcsVrAz"
      },
      "execution_count": null,
      "outputs": []
    },
    {
      "cell_type": "code",
      "source": [
        "TAG_RE = re.compile(r'<[^>]+>')\n",
        "\n",
        "def remove_tags(text):\n",
        "    return TAG_RE.sub('', text)"
      ],
      "metadata": {
        "id": "G-pa0gE9VrEZ"
      },
      "execution_count": null,
      "outputs": []
    },
    {
      "cell_type": "code",
      "source": [
        "X = []\n",
        "sentences = list(movie_reviews['review'])\n",
        "for sen in sentences:\n",
        "    X.append(preprocess_text(sen))"
      ],
      "metadata": {
        "id": "eBR7m82WWAfL"
      },
      "execution_count": null,
      "outputs": []
    },
    {
      "cell_type": "code",
      "source": [
        "X[3]"
      ],
      "metadata": {
        "colab": {
          "base_uri": "https://localhost:8080/",
          "height": 88
        },
        "id": "ZVowdcmKWAqV",
        "outputId": "3aae0c1d-d341-4c77-af94-f6f44b7926a1"
      },
      "execution_count": null,
      "outputs": [
        {
          "output_type": "execute_result",
          "data": {
            "text/plain": [
              "'Basically there a family where little boy Jake thinks there a zombie in his closet his parents are fighting all the time This movie is slower than soap opera and suddenly Jake decides to become Rambo and kill the zombie OK first of all when you re going to make film you must Decide if its thriller or drama As drama the movie is watchable Parents are divorcing arguing like in real life And then we have Jake with his closet which totally ruins all the film expected to see BOOGEYMAN similar movie and instead watched drama with some meaningless thriller spots out of just for the well playing parents descent dialogs As for the shots with Jake just ignore them '"
            ],
            "application/vnd.google.colaboratory.intrinsic+json": {
              "type": "string"
            }
          },
          "metadata": {},
          "execution_count": 31
        }
      ]
    },
    {
      "cell_type": "code",
      "source": [
        "y = movie_reviews['sentiment']\n",
        "\n",
        "y = np.array(list(map(lambda x: 1 if x==\"positive\" else 0, y)))"
      ],
      "metadata": {
        "id": "kyFlwBxYWAt7"
      },
      "execution_count": null,
      "outputs": []
    },
    {
      "cell_type": "code",
      "source": [
        "X_train, X_test, y_train, y_test = train_test_split(X, y, test_size=0.20, random_state=42)"
      ],
      "metadata": {
        "id": "ilSbpluUWA0t"
      },
      "execution_count": null,
      "outputs": []
    },
    {
      "cell_type": "code",
      "source": [
        "tokenizer = Tokenizer(num_words=5000)\n",
        "tokenizer.fit_on_texts(X_train)\n",
        "\n",
        "X_train = tokenizer.texts_to_sequences(X_train)\n",
        "X_test = tokenizer.texts_to_sequences(X_test)"
      ],
      "metadata": {
        "id": "Iy53lxGSVrMo",
        "outputId": "527f46fa-5a11-44c8-d393-c3792dfb440f",
        "colab": {
          "base_uri": "https://localhost:8080/",
          "height": 244
        }
      },
      "execution_count": null,
      "outputs": [
        {
          "output_type": "error",
          "ename": "NameError",
          "evalue": "ignored",
          "traceback": [
            "\u001b[0;31m---------------------------------------------------------------------------\u001b[0m",
            "\u001b[0;31mNameError\u001b[0m                                 Traceback (most recent call last)",
            "\u001b[0;32m<ipython-input-1-a5bedcda2e17>\u001b[0m in \u001b[0;36m<cell line: 1>\u001b[0;34m()\u001b[0m\n\u001b[0;32m----> 1\u001b[0;31m \u001b[0mtokenizer\u001b[0m \u001b[0;34m=\u001b[0m \u001b[0mTokenizer\u001b[0m\u001b[0;34m(\u001b[0m\u001b[0mnum_words\u001b[0m\u001b[0;34m=\u001b[0m\u001b[0;36m5000\u001b[0m\u001b[0;34m)\u001b[0m\u001b[0;34m\u001b[0m\u001b[0;34m\u001b[0m\u001b[0m\n\u001b[0m\u001b[1;32m      2\u001b[0m \u001b[0mtokenizer\u001b[0m\u001b[0;34m.\u001b[0m\u001b[0mfit_on_texts\u001b[0m\u001b[0;34m(\u001b[0m\u001b[0mX_train\u001b[0m\u001b[0;34m)\u001b[0m\u001b[0;34m\u001b[0m\u001b[0;34m\u001b[0m\u001b[0m\n\u001b[1;32m      3\u001b[0m \u001b[0;34m\u001b[0m\u001b[0m\n\u001b[1;32m      4\u001b[0m \u001b[0mX_train\u001b[0m \u001b[0;34m=\u001b[0m \u001b[0mtokenizer\u001b[0m\u001b[0;34m.\u001b[0m\u001b[0mtexts_to_sequences\u001b[0m\u001b[0;34m(\u001b[0m\u001b[0mX_train\u001b[0m\u001b[0;34m)\u001b[0m\u001b[0;34m\u001b[0m\u001b[0;34m\u001b[0m\u001b[0m\n\u001b[1;32m      5\u001b[0m \u001b[0mX_test\u001b[0m \u001b[0;34m=\u001b[0m \u001b[0mtokenizer\u001b[0m\u001b[0;34m.\u001b[0m\u001b[0mtexts_to_sequences\u001b[0m\u001b[0;34m(\u001b[0m\u001b[0mX_test\u001b[0m\u001b[0;34m)\u001b[0m\u001b[0;34m\u001b[0m\u001b[0;34m\u001b[0m\u001b[0m\n",
            "\u001b[0;31mNameError\u001b[0m: name 'Tokenizer' is not defined"
          ]
        }
      ]
    },
    {
      "cell_type": "code",
      "source": [
        "# Adding 1 because of reserved 0 index\n",
        "vocab_size = len(tokenizer.word_index) + 1\n",
        "\n",
        "maxlen = 100\n",
        "\n",
        "X_train = pad_sequences(X_train, padding='post', maxlen=maxlen)\n",
        "X_test = pad_sequences(X_test, padding='post', maxlen=maxlen)"
      ],
      "metadata": {
        "id": "3RJILDnfWb-0"
      },
      "execution_count": null,
      "outputs": []
    },
    {
      "cell_type": "code",
      "source": [
        "from numpy import array\n",
        "from numpy import asarray\n",
        "from numpy import zeros\n",
        "\n",
        "embeddings_dictionary = dict()\n",
        "glove_file = open('/content/gdrive/MyDrive/glove.6B.100d.txt', encoding=\"utf8\")\n",
        "\n",
        "for line in glove_file:\n",
        "    records = line.split()\n",
        "    word = records[0]\n",
        "    vector_dimensions = asarray(records[1:], dtype='float32')\n",
        "    embeddings_dictionary [word] = vector_dimensions\n",
        "glove_file.close()"
      ],
      "metadata": {
        "id": "FM_MecceWcCF"
      },
      "execution_count": null,
      "outputs": []
    },
    {
      "cell_type": "code",
      "source": [
        "embedding_matrix = zeros((vocab_size, 100))\n",
        "for word, index in tokenizer.word_index.items():\n",
        "    embedding_vector = embeddings_dictionary.get(word)\n",
        "    if embedding_vector is not None:\n",
        "        embedding_matrix[index] = embedding_vector"
      ],
      "metadata": {
        "id": "fF3kfW1VWcFL"
      },
      "execution_count": null,
      "outputs": []
    },
    {
      "cell_type": "code",
      "source": [
        "from keras.layers import Embedding, Flatten\n",
        "model = Sequential()\n",
        "embedding_layer = Embedding(vocab_size, 100, weights=[embedding_matrix], input_length=maxlen , trainable=False)\n",
        "model.add(embedding_layer)\n",
        "\n",
        "model.add(Flatten())\n",
        "model.add(Dense(1, activation='sigmoid'))"
      ],
      "metadata": {
        "id": "DuC8Vc1sWcID"
      },
      "execution_count": null,
      "outputs": []
    },
    {
      "cell_type": "code",
      "source": [
        "model.compile(optimizer='adam', loss='binary_crossentropy', metrics=['acc'])\n",
        "\n",
        "print(model.summary())"
      ],
      "metadata": {
        "colab": {
          "base_uri": "https://localhost:8080/"
        },
        "id": "f4wEad9EWcKo",
        "outputId": "1d3b35f0-61d3-47dc-de08-43b69b3733af"
      },
      "execution_count": null,
      "outputs": [
        {
          "output_type": "stream",
          "name": "stdout",
          "text": [
            "Model: \"sequential_8\"\n",
            "_________________________________________________________________\n",
            " Layer (type)                Output Shape              Param #   \n",
            "=================================================================\n",
            " embedding_6 (Embedding)     (None, 100, 100)          1846400   \n",
            "                                                                 \n",
            " flatten_2 (Flatten)         (None, 10000)             0         \n",
            "                                                                 \n",
            " dense_4 (Dense)             (None, 1)                 10001     \n",
            "                                                                 \n",
            "=================================================================\n",
            "Total params: 1,856,401\n",
            "Trainable params: 10,001\n",
            "Non-trainable params: 1,846,400\n",
            "_________________________________________________________________\n",
            "None\n"
          ]
        }
      ]
    },
    {
      "cell_type": "code",
      "source": [
        "history = model.fit(X_train, y_train, batch_size=128, epochs=100, verbose=2, validation_split=0.2)"
      ],
      "metadata": {
        "id": "_lYIraI2WcNX"
      },
      "execution_count": null,
      "outputs": []
    },
    {
      "cell_type": "code",
      "source": [
        "score = model.evaluate(X_test, y_test, verbose=2)\n",
        "print(\"Test Score:\", score[0])\n",
        "print(\"Test Accuracy:\", score[1])"
      ],
      "metadata": {
        "colab": {
          "base_uri": "https://localhost:8080/"
        },
        "id": "1Dr40X_7WcT2",
        "outputId": "410cda39-0321-4662-906a-2f7c21faac75"
      },
      "execution_count": null,
      "outputs": [
        {
          "output_type": "stream",
          "name": "stdout",
          "text": [
            "9/9 - 0s - loss: 0.8578 - acc: 0.6105 - 31ms/epoch - 3ms/step\n",
            "Test Score: 0.8577762842178345\n",
            "Test Accuracy: 0.6105263233184814\n"
          ]
        }
      ]
    },
    {
      "cell_type": "code",
      "source": [],
      "metadata": {
        "id": "R0DIs0LpsSAJ"
      },
      "execution_count": null,
      "outputs": []
    },
    {
      "cell_type": "code",
      "source": [],
      "metadata": {
        "id": "xVEGm1zpsSCy"
      },
      "execution_count": null,
      "outputs": []
    },
    {
      "cell_type": "code",
      "source": [
        "history = model.fit(X_train, y_train, batch_size=128, epochs=100, verbose=2, validation_split=0.2, validation_data=(X_test, y_test))"
      ],
      "metadata": {
        "colab": {
          "base_uri": "https://localhost:8080/"
        },
        "id": "MsDzefwWsSFf",
        "outputId": "b2aeacb1-ae7a-4ec1-f8d3-b62addb41323"
      },
      "execution_count": null,
      "outputs": [
        {
          "output_type": "stream",
          "name": "stdout",
          "text": [
            "Epoch 1/100\n",
            "8/8 - 1s - loss: 0.7810 - acc: 0.5318 - val_loss: 0.7214 - val_acc: 0.5658 - 806ms/epoch - 101ms/step\n",
            "Epoch 2/100\n",
            "8/8 - 0s - loss: 0.6145 - acc: 0.6469 - val_loss: 0.6540 - val_acc: 0.6272 - 78ms/epoch - 10ms/step\n",
            "Epoch 3/100\n",
            "8/8 - 0s - loss: 0.5169 - acc: 0.7697 - val_loss: 0.6484 - val_acc: 0.6623 - 82ms/epoch - 10ms/step\n",
            "Epoch 4/100\n",
            "8/8 - 0s - loss: 0.4428 - acc: 0.8498 - val_loss: 0.6504 - val_acc: 0.6184 - 102ms/epoch - 13ms/step\n",
            "Epoch 5/100\n",
            "8/8 - 0s - loss: 0.4075 - acc: 0.8542 - val_loss: 0.7300 - val_acc: 0.5614 - 92ms/epoch - 11ms/step\n",
            "Epoch 6/100\n",
            "8/8 - 0s - loss: 0.3664 - acc: 0.8761 - val_loss: 0.6378 - val_acc: 0.6360 - 104ms/epoch - 13ms/step\n",
            "Epoch 7/100\n",
            "8/8 - 0s - loss: 0.3135 - acc: 0.9485 - val_loss: 0.6412 - val_acc: 0.6360 - 79ms/epoch - 10ms/step\n",
            "Epoch 8/100\n",
            "8/8 - 0s - loss: 0.2843 - acc: 0.9507 - val_loss: 0.6673 - val_acc: 0.6404 - 58ms/epoch - 7ms/step\n",
            "Epoch 9/100\n",
            "8/8 - 0s - loss: 0.2504 - acc: 0.9770 - val_loss: 0.6424 - val_acc: 0.6623 - 57ms/epoch - 7ms/step\n",
            "Epoch 10/100\n",
            "8/8 - 0s - loss: 0.2290 - acc: 0.9846 - val_loss: 0.6460 - val_acc: 0.6491 - 57ms/epoch - 7ms/step\n",
            "Epoch 11/100\n",
            "8/8 - 0s - loss: 0.2059 - acc: 0.9934 - val_loss: 0.6538 - val_acc: 0.6404 - 57ms/epoch - 7ms/step\n",
            "Epoch 12/100\n",
            "8/8 - 0s - loss: 0.1894 - acc: 0.9945 - val_loss: 0.6485 - val_acc: 0.6491 - 58ms/epoch - 7ms/step\n",
            "Epoch 13/100\n",
            "8/8 - 0s - loss: 0.1749 - acc: 0.9956 - val_loss: 0.6524 - val_acc: 0.6491 - 57ms/epoch - 7ms/step\n",
            "Epoch 14/100\n",
            "8/8 - 0s - loss: 0.1616 - acc: 0.9989 - val_loss: 0.6591 - val_acc: 0.6623 - 58ms/epoch - 7ms/step\n",
            "Epoch 15/100\n",
            "8/8 - 0s - loss: 0.1496 - acc: 0.9978 - val_loss: 0.6673 - val_acc: 0.6272 - 54ms/epoch - 7ms/step\n",
            "Epoch 16/100\n",
            "8/8 - 0s - loss: 0.1409 - acc: 0.9967 - val_loss: 0.6623 - val_acc: 0.6535 - 76ms/epoch - 9ms/step\n",
            "Epoch 17/100\n",
            "8/8 - 0s - loss: 0.1283 - acc: 0.9989 - val_loss: 0.6705 - val_acc: 0.6404 - 62ms/epoch - 8ms/step\n",
            "Epoch 18/100\n",
            "8/8 - 0s - loss: 0.1206 - acc: 0.9989 - val_loss: 0.6739 - val_acc: 0.6404 - 60ms/epoch - 8ms/step\n",
            "Epoch 19/100\n",
            "8/8 - 0s - loss: 0.1136 - acc: 1.0000 - val_loss: 0.6726 - val_acc: 0.6623 - 59ms/epoch - 7ms/step\n",
            "Epoch 20/100\n",
            "8/8 - 0s - loss: 0.1048 - acc: 1.0000 - val_loss: 0.6850 - val_acc: 0.6447 - 62ms/epoch - 8ms/step\n",
            "Epoch 21/100\n",
            "8/8 - 0s - loss: 0.1008 - acc: 1.0000 - val_loss: 0.6820 - val_acc: 0.6667 - 86ms/epoch - 11ms/step\n",
            "Epoch 22/100\n",
            "8/8 - 0s - loss: 0.0930 - acc: 1.0000 - val_loss: 0.6841 - val_acc: 0.6667 - 57ms/epoch - 7ms/step\n",
            "Epoch 23/100\n",
            "8/8 - 0s - loss: 0.0884 - acc: 1.0000 - val_loss: 0.6870 - val_acc: 0.6579 - 65ms/epoch - 8ms/step\n",
            "Epoch 24/100\n",
            "8/8 - 0s - loss: 0.0833 - acc: 1.0000 - val_loss: 0.6905 - val_acc: 0.6623 - 63ms/epoch - 8ms/step\n",
            "Epoch 25/100\n",
            "8/8 - 0s - loss: 0.0802 - acc: 1.0000 - val_loss: 0.7083 - val_acc: 0.6491 - 72ms/epoch - 9ms/step\n",
            "Epoch 26/100\n",
            "8/8 - 0s - loss: 0.0755 - acc: 1.0000 - val_loss: 0.6990 - val_acc: 0.6623 - 66ms/epoch - 8ms/step\n",
            "Epoch 27/100\n",
            "8/8 - 0s - loss: 0.0712 - acc: 1.0000 - val_loss: 0.7089 - val_acc: 0.6491 - 57ms/epoch - 7ms/step\n",
            "Epoch 28/100\n",
            "8/8 - 0s - loss: 0.0679 - acc: 1.0000 - val_loss: 0.7048 - val_acc: 0.6623 - 60ms/epoch - 7ms/step\n",
            "Epoch 29/100\n",
            "8/8 - 0s - loss: 0.0653 - acc: 1.0000 - val_loss: 0.7067 - val_acc: 0.6535 - 71ms/epoch - 9ms/step\n",
            "Epoch 30/100\n",
            "8/8 - 0s - loss: 0.0627 - acc: 1.0000 - val_loss: 0.7196 - val_acc: 0.6447 - 63ms/epoch - 8ms/step\n",
            "Epoch 31/100\n",
            "8/8 - 0s - loss: 0.0589 - acc: 1.0000 - val_loss: 0.7136 - val_acc: 0.6579 - 65ms/epoch - 8ms/step\n",
            "Epoch 32/100\n",
            "8/8 - 0s - loss: 0.0564 - acc: 1.0000 - val_loss: 0.7334 - val_acc: 0.6404 - 67ms/epoch - 8ms/step\n",
            "Epoch 33/100\n",
            "8/8 - 0s - loss: 0.0565 - acc: 1.0000 - val_loss: 0.7214 - val_acc: 0.6535 - 60ms/epoch - 7ms/step\n",
            "Epoch 34/100\n",
            "8/8 - 0s - loss: 0.0523 - acc: 1.0000 - val_loss: 0.7408 - val_acc: 0.6447 - 58ms/epoch - 7ms/step\n",
            "Epoch 35/100\n",
            "8/8 - 0s - loss: 0.0501 - acc: 1.0000 - val_loss: 0.7292 - val_acc: 0.6579 - 78ms/epoch - 10ms/step\n",
            "Epoch 36/100\n",
            "8/8 - 0s - loss: 0.0478 - acc: 1.0000 - val_loss: 0.7476 - val_acc: 0.6404 - 73ms/epoch - 9ms/step\n",
            "Epoch 37/100\n",
            "8/8 - 0s - loss: 0.0460 - acc: 1.0000 - val_loss: 0.7370 - val_acc: 0.6579 - 64ms/epoch - 8ms/step\n",
            "Epoch 38/100\n",
            "8/8 - 0s - loss: 0.0451 - acc: 1.0000 - val_loss: 0.7498 - val_acc: 0.6360 - 67ms/epoch - 8ms/step\n",
            "Epoch 39/100\n",
            "8/8 - 0s - loss: 0.0422 - acc: 1.0000 - val_loss: 0.7422 - val_acc: 0.6623 - 59ms/epoch - 7ms/step\n",
            "Epoch 40/100\n",
            "8/8 - 0s - loss: 0.0410 - acc: 1.0000 - val_loss: 0.7542 - val_acc: 0.6360 - 69ms/epoch - 9ms/step\n",
            "Epoch 41/100\n",
            "8/8 - 0s - loss: 0.0396 - acc: 1.0000 - val_loss: 0.7491 - val_acc: 0.6535 - 58ms/epoch - 7ms/step\n",
            "Epoch 42/100\n",
            "8/8 - 0s - loss: 0.0378 - acc: 1.0000 - val_loss: 0.7597 - val_acc: 0.6360 - 73ms/epoch - 9ms/step\n",
            "Epoch 43/100\n",
            "8/8 - 0s - loss: 0.0371 - acc: 1.0000 - val_loss: 0.7542 - val_acc: 0.6623 - 56ms/epoch - 7ms/step\n",
            "Epoch 44/100\n",
            "8/8 - 0s - loss: 0.0358 - acc: 1.0000 - val_loss: 0.7582 - val_acc: 0.6535 - 63ms/epoch - 8ms/step\n",
            "Epoch 45/100\n",
            "8/8 - 0s - loss: 0.0343 - acc: 1.0000 - val_loss: 0.7620 - val_acc: 0.6404 - 58ms/epoch - 7ms/step\n",
            "Epoch 46/100\n",
            "8/8 - 0s - loss: 0.0331 - acc: 1.0000 - val_loss: 0.7635 - val_acc: 0.6535 - 64ms/epoch - 8ms/step\n",
            "Epoch 47/100\n",
            "8/8 - 0s - loss: 0.0322 - acc: 1.0000 - val_loss: 0.7661 - val_acc: 0.6535 - 60ms/epoch - 8ms/step\n",
            "Epoch 48/100\n",
            "8/8 - 0s - loss: 0.0311 - acc: 1.0000 - val_loss: 0.7689 - val_acc: 0.6491 - 61ms/epoch - 8ms/step\n",
            "Epoch 49/100\n",
            "8/8 - 0s - loss: 0.0302 - acc: 1.0000 - val_loss: 0.7711 - val_acc: 0.6491 - 60ms/epoch - 8ms/step\n",
            "Epoch 50/100\n",
            "8/8 - 0s - loss: 0.0294 - acc: 1.0000 - val_loss: 0.7742 - val_acc: 0.6491 - 58ms/epoch - 7ms/step\n",
            "Epoch 51/100\n",
            "8/8 - 0s - loss: 0.0286 - acc: 1.0000 - val_loss: 0.7776 - val_acc: 0.6491 - 72ms/epoch - 9ms/step\n",
            "Epoch 52/100\n",
            "8/8 - 0s - loss: 0.0276 - acc: 1.0000 - val_loss: 0.7766 - val_acc: 0.6667 - 90ms/epoch - 11ms/step\n",
            "Epoch 53/100\n",
            "8/8 - 0s - loss: 0.0269 - acc: 1.0000 - val_loss: 0.7843 - val_acc: 0.6447 - 82ms/epoch - 10ms/step\n",
            "Epoch 54/100\n",
            "8/8 - 0s - loss: 0.0262 - acc: 1.0000 - val_loss: 0.7819 - val_acc: 0.6535 - 90ms/epoch - 11ms/step\n",
            "Epoch 55/100\n",
            "8/8 - 0s - loss: 0.0258 - acc: 1.0000 - val_loss: 0.7845 - val_acc: 0.6579 - 101ms/epoch - 13ms/step\n",
            "Epoch 56/100\n",
            "8/8 - 0s - loss: 0.0247 - acc: 1.0000 - val_loss: 0.7931 - val_acc: 0.6404 - 76ms/epoch - 9ms/step\n",
            "Epoch 57/100\n",
            "8/8 - 0s - loss: 0.0241 - acc: 1.0000 - val_loss: 0.7901 - val_acc: 0.6579 - 78ms/epoch - 10ms/step\n",
            "Epoch 58/100\n",
            "8/8 - 0s - loss: 0.0234 - acc: 1.0000 - val_loss: 0.7993 - val_acc: 0.6404 - 95ms/epoch - 12ms/step\n",
            "Epoch 59/100\n",
            "8/8 - 0s - loss: 0.0230 - acc: 1.0000 - val_loss: 0.7970 - val_acc: 0.6491 - 79ms/epoch - 10ms/step\n",
            "Epoch 60/100\n",
            "8/8 - 0s - loss: 0.0224 - acc: 1.0000 - val_loss: 0.7975 - val_acc: 0.6535 - 87ms/epoch - 11ms/step\n",
            "Epoch 61/100\n",
            "8/8 - 0s - loss: 0.0217 - acc: 1.0000 - val_loss: 0.8021 - val_acc: 0.6491 - 93ms/epoch - 12ms/step\n",
            "Epoch 62/100\n",
            "8/8 - 0s - loss: 0.0212 - acc: 1.0000 - val_loss: 0.8037 - val_acc: 0.6491 - 104ms/epoch - 13ms/step\n",
            "Epoch 63/100\n",
            "8/8 - 0s - loss: 0.0207 - acc: 1.0000 - val_loss: 0.8050 - val_acc: 0.6579 - 92ms/epoch - 11ms/step\n",
            "Epoch 64/100\n",
            "8/8 - 0s - loss: 0.0203 - acc: 1.0000 - val_loss: 0.8090 - val_acc: 0.6491 - 92ms/epoch - 12ms/step\n",
            "Epoch 65/100\n",
            "8/8 - 0s - loss: 0.0197 - acc: 1.0000 - val_loss: 0.8122 - val_acc: 0.6404 - 80ms/epoch - 10ms/step\n",
            "Epoch 66/100\n",
            "8/8 - 0s - loss: 0.0192 - acc: 1.0000 - val_loss: 0.8123 - val_acc: 0.6535 - 82ms/epoch - 10ms/step\n",
            "Epoch 67/100\n",
            "8/8 - 0s - loss: 0.0188 - acc: 1.0000 - val_loss: 0.8185 - val_acc: 0.6404 - 84ms/epoch - 10ms/step\n",
            "Epoch 68/100\n",
            "8/8 - 0s - loss: 0.0184 - acc: 1.0000 - val_loss: 0.8175 - val_acc: 0.6535 - 83ms/epoch - 10ms/step\n",
            "Epoch 69/100\n",
            "8/8 - 0s - loss: 0.0180 - acc: 1.0000 - val_loss: 0.8227 - val_acc: 0.6404 - 91ms/epoch - 11ms/step\n",
            "Epoch 70/100\n",
            "8/8 - 0s - loss: 0.0176 - acc: 1.0000 - val_loss: 0.8214 - val_acc: 0.6579 - 77ms/epoch - 10ms/step\n",
            "Epoch 71/100\n",
            "8/8 - 0s - loss: 0.0172 - acc: 1.0000 - val_loss: 0.8267 - val_acc: 0.6404 - 83ms/epoch - 10ms/step\n",
            "Epoch 72/100\n",
            "8/8 - 0s - loss: 0.0169 - acc: 1.0000 - val_loss: 0.8272 - val_acc: 0.6535 - 88ms/epoch - 11ms/step\n",
            "Epoch 73/100\n",
            "8/8 - 0s - loss: 0.0166 - acc: 1.0000 - val_loss: 0.8293 - val_acc: 0.6491 - 98ms/epoch - 12ms/step\n",
            "Epoch 74/100\n",
            "8/8 - 0s - loss: 0.0162 - acc: 1.0000 - val_loss: 0.8298 - val_acc: 0.6535 - 96ms/epoch - 12ms/step\n",
            "Epoch 75/100\n",
            "8/8 - 0s - loss: 0.0157 - acc: 1.0000 - val_loss: 0.8394 - val_acc: 0.6404 - 94ms/epoch - 12ms/step\n",
            "Epoch 76/100\n",
            "8/8 - 0s - loss: 0.0156 - acc: 1.0000 - val_loss: 0.8352 - val_acc: 0.6491 - 88ms/epoch - 11ms/step\n",
            "Epoch 77/100\n",
            "8/8 - 0s - loss: 0.0152 - acc: 1.0000 - val_loss: 0.8366 - val_acc: 0.6579 - 87ms/epoch - 11ms/step\n",
            "Epoch 78/100\n",
            "8/8 - 0s - loss: 0.0149 - acc: 1.0000 - val_loss: 0.8429 - val_acc: 0.6360 - 97ms/epoch - 12ms/step\n",
            "Epoch 79/100\n",
            "8/8 - 0s - loss: 0.0146 - acc: 1.0000 - val_loss: 0.8429 - val_acc: 0.6447 - 92ms/epoch - 11ms/step\n",
            "Epoch 80/100\n",
            "8/8 - 0s - loss: 0.0143 - acc: 1.0000 - val_loss: 0.8447 - val_acc: 0.6491 - 77ms/epoch - 10ms/step\n",
            "Epoch 81/100\n",
            "8/8 - 0s - loss: 0.0140 - acc: 1.0000 - val_loss: 0.8476 - val_acc: 0.6447 - 90ms/epoch - 11ms/step\n",
            "Epoch 82/100\n",
            "8/8 - 0s - loss: 0.0138 - acc: 1.0000 - val_loss: 0.8508 - val_acc: 0.6404 - 80ms/epoch - 10ms/step\n",
            "Epoch 83/100\n",
            "8/8 - 0s - loss: 0.0136 - acc: 1.0000 - val_loss: 0.8478 - val_acc: 0.6535 - 84ms/epoch - 10ms/step\n",
            "Epoch 84/100\n",
            "8/8 - 0s - loss: 0.0133 - acc: 1.0000 - val_loss: 0.8547 - val_acc: 0.6404 - 83ms/epoch - 10ms/step\n",
            "Epoch 85/100\n",
            "8/8 - 0s - loss: 0.0130 - acc: 1.0000 - val_loss: 0.8553 - val_acc: 0.6447 - 81ms/epoch - 10ms/step\n",
            "Epoch 86/100\n",
            "8/8 - 0s - loss: 0.0128 - acc: 1.0000 - val_loss: 0.8529 - val_acc: 0.6535 - 100ms/epoch - 13ms/step\n",
            "Epoch 87/100\n",
            "8/8 - 0s - loss: 0.0125 - acc: 1.0000 - val_loss: 0.8623 - val_acc: 0.6360 - 85ms/epoch - 11ms/step\n",
            "Epoch 88/100\n",
            "8/8 - 0s - loss: 0.0124 - acc: 1.0000 - val_loss: 0.8623 - val_acc: 0.6404 - 81ms/epoch - 10ms/step\n",
            "Epoch 89/100\n",
            "8/8 - 0s - loss: 0.0121 - acc: 1.0000 - val_loss: 0.8589 - val_acc: 0.6535 - 95ms/epoch - 12ms/step\n",
            "Epoch 90/100\n",
            "8/8 - 0s - loss: 0.0119 - acc: 1.0000 - val_loss: 0.8649 - val_acc: 0.6404 - 90ms/epoch - 11ms/step\n",
            "Epoch 91/100\n",
            "8/8 - 0s - loss: 0.0118 - acc: 1.0000 - val_loss: 0.8723 - val_acc: 0.6404 - 79ms/epoch - 10ms/step\n",
            "Epoch 92/100\n",
            "8/8 - 0s - loss: 0.0115 - acc: 1.0000 - val_loss: 0.8626 - val_acc: 0.6535 - 82ms/epoch - 10ms/step\n",
            "Epoch 93/100\n",
            "8/8 - 0s - loss: 0.0113 - acc: 1.0000 - val_loss: 0.8710 - val_acc: 0.6404 - 102ms/epoch - 13ms/step\n",
            "Epoch 94/100\n",
            "8/8 - 0s - loss: 0.0111 - acc: 1.0000 - val_loss: 0.8721 - val_acc: 0.6404 - 84ms/epoch - 10ms/step\n",
            "Epoch 95/100\n",
            "8/8 - 0s - loss: 0.0109 - acc: 1.0000 - val_loss: 0.8716 - val_acc: 0.6491 - 72ms/epoch - 9ms/step\n",
            "Epoch 96/100\n",
            "8/8 - 0s - loss: 0.0107 - acc: 1.0000 - val_loss: 0.8771 - val_acc: 0.6404 - 60ms/epoch - 7ms/step\n",
            "Epoch 97/100\n",
            "8/8 - 0s - loss: 0.0105 - acc: 1.0000 - val_loss: 0.8761 - val_acc: 0.6447 - 65ms/epoch - 8ms/step\n",
            "Epoch 98/100\n",
            "8/8 - 0s - loss: 0.0104 - acc: 1.0000 - val_loss: 0.8771 - val_acc: 0.6447 - 57ms/epoch - 7ms/step\n",
            "Epoch 99/100\n",
            "8/8 - 0s - loss: 0.0102 - acc: 1.0000 - val_loss: 0.8774 - val_acc: 0.6491 - 56ms/epoch - 7ms/step\n",
            "Epoch 100/100\n",
            "8/8 - 0s - loss: 0.0101 - acc: 1.0000 - val_loss: 0.8864 - val_acc: 0.6447 - 56ms/epoch - 7ms/step\n"
          ]
        }
      ]
    },
    {
      "cell_type": "code",
      "source": [
        "metrics = pd.DataFrame(history.history)\n",
        "# Rename column\n",
        "metrics.rename(columns = {'loss': 'Training_Loss', 'acc': 'Training_Accuracy',\n",
        "                         'val_loss': 'Validation_Loss', 'val_acc': 'Validation_Accuracy'}, inplace = True)\n",
        "def plot_graphs1(var1, var2, string):\n",
        "    metrics[[var1, var2]].plot()\n",
        "    plt.title('ANN Model: Training and Validation ' + string)\n",
        "    plt.xlabel ('Number of epochs')\n",
        "    plt.ylabel(string)\n",
        "    plt.legend([var1, var2])\n",
        "# Plot\n",
        "plot_graphs1('Training_Loss', 'Validation_Loss', 'loss')\n",
        "plot_graphs1('Training_Accuracy', 'Validation_Accuracy', 'accuracy')"
      ],
      "metadata": {
        "colab": {
          "base_uri": "https://localhost:8080/",
          "height": 573
        },
        "id": "HScGPGi5sSH_",
        "outputId": "5c89514f-0e3b-444e-d178-e821ebe806c7"
      },
      "execution_count": null,
      "outputs": [
        {
          "output_type": "display_data",
          "data": {
            "text/plain": [
              "<Figure size 432x288 with 1 Axes>"
            ],
            "image/png": "[encoded data removed]"
          },
          "metadata": {
            "needs_background": "light"
          }
        },
        {
          "output_type": "display_data",
          "data": {
            "text/plain": [
              "<Figure size 432x288 with 1 Axes>"
            ],
            "image/png": "[encoded data removed]"
          },
          "metadata": {
            "needs_background": "light"
          }
        }
      ]
    },
    {
      "cell_type": "code",
      "source": [],
      "metadata": {
        "id": "K2S1NXwzsSLO"
      },
      "execution_count": null,
      "outputs": []
    },
    {
      "cell_type": "code",
      "metadata": {
        "execution": {
          "iopub.execute_input": "2021-05-03T15:41:18.090177Z",
          "iopub.status.busy": "2021-05-03T15:41:18.089337Z",
          "iopub.status.idle": "2021-05-03T15:41:18.227933Z",
          "shell.execute_reply": "2021-05-03T15:41:18.227350Z"
        },
        "papermill": {
          "duration": 0.284458,
          "end_time": "2021-05-03T15:41:18.228093",
          "exception": false,
          "start_time": "2021-05-03T15:41:17.943635",
          "status": "completed"
        },
        "tags": [],
        "id": "north-former"
      },
      "source": [
        "y_pred = model.predict(X_test)\n",
        "y_pred = (y_pred > 0.5)"
      ],
      "execution_count": null,
      "outputs": []
    },
    {
      "cell_type": "code",
      "metadata": {
        "execution": {
          "iopub.execute_input": "2021-05-03T15:41:18.541214Z",
          "iopub.status.busy": "2021-05-03T15:41:18.540342Z",
          "iopub.status.idle": "2021-05-03T15:41:18.549846Z",
          "shell.execute_reply": "2021-05-03T15:41:18.549328Z"
        },
        "papermill": {
          "duration": 0.174404,
          "end_time": "2021-05-03T15:41:18.549971",
          "exception": false,
          "start_time": "2021-05-03T15:41:18.375567",
          "status": "completed"
        },
        "tags": [],
        "id": "marked-jimmy",
        "colab": {
          "base_uri": "https://localhost:8080/",
          "height": 210
        },
        "outputId": "d759749b-e368-4f88-e768-9815d63cb4e7"
      },
      "source": [
        "from sklearn.metrics import confusion_matrix\n",
        "cm = confusion_matrix(y_test, y_pred)\n",
        "cm"
      ],
      "execution_count": null,
      "outputs": [
        {
          "output_type": "error",
          "ename": "NameError",
          "evalue": "ignored",
          "traceback": [
            "\u001b[0;31m---------------------------------------------------------------------------\u001b[0m",
            "\u001b[0;31mNameError\u001b[0m                                 Traceback (most recent call last)",
            "\u001b[0;32m<ipython-input-1-888dc3bdff8c>\u001b[0m in \u001b[0;36m<cell line: 2>\u001b[0;34m()\u001b[0m\n\u001b[1;32m      1\u001b[0m \u001b[0;32mfrom\u001b[0m \u001b[0msklearn\u001b[0m\u001b[0;34m.\u001b[0m\u001b[0mmetrics\u001b[0m \u001b[0;32mimport\u001b[0m \u001b[0mconfusion_matrix\u001b[0m\u001b[0;34m\u001b[0m\u001b[0;34m\u001b[0m\u001b[0m\n\u001b[0;32m----> 2\u001b[0;31m \u001b[0mcm\u001b[0m \u001b[0;34m=\u001b[0m \u001b[0mconfusion_matrix\u001b[0m\u001b[0;34m(\u001b[0m\u001b[0my_test\u001b[0m\u001b[0;34m,\u001b[0m \u001b[0my_pred\u001b[0m\u001b[0;34m)\u001b[0m\u001b[0;34m\u001b[0m\u001b[0;34m\u001b[0m\u001b[0m\n\u001b[0m\u001b[1;32m      3\u001b[0m \u001b[0mcm\u001b[0m\u001b[0;34m\u001b[0m\u001b[0;34m\u001b[0m\u001b[0m\n",
            "\u001b[0;31mNameError\u001b[0m: name 'y_test' is not defined"
          ]
        }
      ]
    },
    {
      "cell_type": "code",
      "source": [
        "from sklearn.metrics import accuracy_score\n",
        "accuracy_score (y_test,y_pred )"
      ],
      "metadata": {
        "colab": {
          "base_uri": "https://localhost:8080/"
        },
        "id": "uGbY4YC1tI7Y",
        "outputId": "bd2942bd-9968-4913-f5ec-c942f3ae853a"
      },
      "execution_count": null,
      "outputs": [
        {
          "output_type": "execute_result",
          "data": {
            "text/plain": [
              "0.5929824561403508"
            ]
          },
          "metadata": {},
          "execution_count": 98
        }
      ]
    },
    {
      "cell_type": "code",
      "source": [],
      "metadata": {
        "id": "N-Wv733CtI-0"
      },
      "execution_count": null,
      "outputs": []
    },
    {
      "cell_type": "code",
      "source": [],
      "metadata": {
        "id": "rjTK3nVksSOo"
      },
      "execution_count": null,
      "outputs": []
    },
    {
      "cell_type": "markdown",
      "source": [
        "**Text Classification with a Recurrent Neural Network**"
      ],
      "metadata": {
        "id": "LMMgd4ffn7Hh"
      }
    },
    {
      "cell_type": "code",
      "source": [
        "from keras.layers import GlobalMaxPooling1D, Conv1D\n",
        "\n",
        "model = Sequential()\n",
        "\n",
        "embedding_layer = Embedding(vocab_size, 100, weights=[embedding_matrix], input_length=maxlen , trainable=False)\n",
        "model.add(embedding_layer)\n",
        "\n",
        "model.add(Conv1D(128, 5, activation='relu'))\n",
        "model.add(GlobalMaxPooling1D())\n",
        "model.add(Dense(1, activation='sigmoid'))\n",
        "model.compile(optimizer='adam', loss='binary_crossentropy', metrics=['acc'])"
      ],
      "metadata": {
        "id": "SDCr8i9JwBs1"
      },
      "execution_count": null,
      "outputs": []
    },
    {
      "cell_type": "code",
      "source": [
        "print(model.summary())"
      ],
      "metadata": {
        "colab": {
          "base_uri": "https://localhost:8080/"
        },
        "id": "-lFvpXpzwBvX",
        "outputId": "7b4012d4-449f-474c-ae93-bea292a5a510"
      },
      "execution_count": null,
      "outputs": [
        {
          "output_type": "stream",
          "name": "stdout",
          "text": [
            "Model: \"sequential_12\"\n",
            "_________________________________________________________________\n",
            " Layer (type)                Output Shape              Param #   \n",
            "=================================================================\n",
            " embedding_9 (Embedding)     (None, 100, 100)          1846400   \n",
            "                                                                 \n",
            " conv1d_4 (Conv1D)           (None, 96, 128)           64128     \n",
            "                                                                 \n",
            " global_max_pooling1d_1 (Glo  (None, 128)              0         \n",
            " balMaxPooling1D)                                                \n",
            "                                                                 \n",
            " dense_7 (Dense)             (None, 1)                 129       \n",
            "                                                                 \n",
            "=================================================================\n",
            "Total params: 1,910,657\n",
            "Trainable params: 64,257\n",
            "Non-trainable params: 1,846,400\n",
            "_________________________________________________________________\n",
            "None\n"
          ]
        }
      ]
    },
    {
      "cell_type": "code",
      "source": [
        "history = model.fit(X_train, y_train, batch_size=128, epochs=100, verbose=2, validation_split=0.2)\n",
        "\n",
        "score = model.evaluate(X_test, y_test, verbose=2)"
      ],
      "metadata": {
        "colab": {
          "base_uri": "https://localhost:8080/"
        },
        "id": "XCgsj8Rxw4y2",
        "outputId": "d316a9df-3ed2-4c43-b3f6-7815e135a315"
      },
      "execution_count": null,
      "outputs": [
        {
          "output_type": "stream",
          "name": "stdout",
          "text": [
            "Epoch 1/100\n",
            "8/8 - 2s - loss: 0.7234 - acc: 0.5197 - val_loss: 0.6999 - val_acc: 0.5307 - 2s/epoch - 259ms/step\n",
            "Epoch 2/100\n",
            "8/8 - 1s - loss: 0.6053 - acc: 0.6327 - val_loss: 0.6331 - val_acc: 0.6535 - 1s/epoch - 151ms/step\n",
            "Epoch 3/100\n",
            "8/8 - 1s - loss: 0.5377 - acc: 0.8015 - val_loss: 0.6335 - val_acc: 0.6360 - 1s/epoch - 159ms/step\n",
            "Epoch 4/100\n",
            "8/8 - 1s - loss: 0.4839 - acc: 0.8695 - val_loss: 0.6063 - val_acc: 0.6754 - 779ms/epoch - 97ms/step\n",
            "Epoch 5/100\n",
            "8/8 - 1s - loss: 0.4444 - acc: 0.8936 - val_loss: 0.5994 - val_acc: 0.6667 - 653ms/epoch - 82ms/step\n",
            "Epoch 6/100\n",
            "8/8 - 1s - loss: 0.4104 - acc: 0.9430 - val_loss: 0.5800 - val_acc: 0.7149 - 651ms/epoch - 81ms/step\n",
            "Epoch 7/100\n",
            "8/8 - 1s - loss: 0.3716 - acc: 0.9682 - val_loss: 0.5952 - val_acc: 0.6798 - 637ms/epoch - 80ms/step\n",
            "Epoch 8/100\n",
            "8/8 - 1s - loss: 0.3579 - acc: 0.9276 - val_loss: 0.5690 - val_acc: 0.6974 - 654ms/epoch - 82ms/step\n",
            "Epoch 9/100\n",
            "8/8 - 1s - loss: 0.3230 - acc: 0.9627 - val_loss: 0.5585 - val_acc: 0.7105 - 663ms/epoch - 83ms/step\n",
            "Epoch 10/100\n",
            "8/8 - 1s - loss: 0.2939 - acc: 0.9814 - val_loss: 0.5490 - val_acc: 0.7281 - 645ms/epoch - 81ms/step\n",
            "Epoch 11/100\n",
            "8/8 - 1s - loss: 0.2643 - acc: 0.9923 - val_loss: 0.5543 - val_acc: 0.7018 - 654ms/epoch - 82ms/step\n",
            "Epoch 12/100\n",
            "8/8 - 1s - loss: 0.2456 - acc: 0.9912 - val_loss: 0.5457 - val_acc: 0.7105 - 640ms/epoch - 80ms/step\n",
            "Epoch 13/100\n",
            "8/8 - 1s - loss: 0.2281 - acc: 0.9901 - val_loss: 0.5415 - val_acc: 0.6930 - 647ms/epoch - 81ms/step\n",
            "Epoch 14/100\n",
            "8/8 - 1s - loss: 0.2069 - acc: 0.9978 - val_loss: 0.5345 - val_acc: 0.7281 - 647ms/epoch - 81ms/step\n",
            "Epoch 15/100\n",
            "8/8 - 1s - loss: 0.1892 - acc: 0.9989 - val_loss: 0.5277 - val_acc: 0.7193 - 665ms/epoch - 83ms/step\n",
            "Epoch 16/100\n",
            "8/8 - 1s - loss: 0.1735 - acc: 1.0000 - val_loss: 0.5270 - val_acc: 0.7237 - 653ms/epoch - 82ms/step\n",
            "Epoch 17/100\n",
            "8/8 - 1s - loss: 0.1601 - acc: 0.9989 - val_loss: 0.5282 - val_acc: 0.7149 - 649ms/epoch - 81ms/step\n",
            "Epoch 18/100\n",
            "8/8 - 1s - loss: 0.1467 - acc: 0.9989 - val_loss: 0.5259 - val_acc: 0.7193 - 641ms/epoch - 80ms/step\n",
            "Epoch 19/100\n",
            "8/8 - 1s - loss: 0.1340 - acc: 1.0000 - val_loss: 0.5211 - val_acc: 0.7281 - 658ms/epoch - 82ms/step\n",
            "Epoch 20/100\n",
            "8/8 - 1s - loss: 0.1229 - acc: 1.0000 - val_loss: 0.5184 - val_acc: 0.7325 - 648ms/epoch - 81ms/step\n",
            "Epoch 21/100\n",
            "8/8 - 1s - loss: 0.1142 - acc: 1.0000 - val_loss: 0.5191 - val_acc: 0.7237 - 648ms/epoch - 81ms/step\n",
            "Epoch 22/100\n",
            "8/8 - 1s - loss: 0.1042 - acc: 1.0000 - val_loss: 0.5160 - val_acc: 0.7281 - 655ms/epoch - 82ms/step\n",
            "Epoch 23/100\n",
            "8/8 - 1s - loss: 0.0964 - acc: 1.0000 - val_loss: 0.5173 - val_acc: 0.7325 - 640ms/epoch - 80ms/step\n",
            "Epoch 24/100\n",
            "8/8 - 1s - loss: 0.0905 - acc: 1.0000 - val_loss: 0.5155 - val_acc: 0.7237 - 653ms/epoch - 82ms/step\n",
            "Epoch 25/100\n",
            "8/8 - 1s - loss: 0.0839 - acc: 1.0000 - val_loss: 0.5213 - val_acc: 0.7105 - 651ms/epoch - 81ms/step\n",
            "Epoch 26/100\n",
            "8/8 - 1s - loss: 0.0763 - acc: 1.0000 - val_loss: 0.5159 - val_acc: 0.7325 - 640ms/epoch - 80ms/step\n",
            "Epoch 27/100\n",
            "8/8 - 1s - loss: 0.0702 - acc: 1.0000 - val_loss: 0.5152 - val_acc: 0.7237 - 645ms/epoch - 81ms/step\n",
            "Epoch 28/100\n",
            "8/8 - 1s - loss: 0.0652 - acc: 1.0000 - val_loss: 0.5209 - val_acc: 0.7193 - 657ms/epoch - 82ms/step\n",
            "Epoch 29/100\n",
            "8/8 - 1s - loss: 0.0614 - acc: 1.0000 - val_loss: 0.5147 - val_acc: 0.7281 - 640ms/epoch - 80ms/step\n",
            "Epoch 30/100\n",
            "8/8 - 1s - loss: 0.0580 - acc: 1.0000 - val_loss: 0.5174 - val_acc: 0.7237 - 667ms/epoch - 83ms/step\n",
            "Epoch 31/100\n",
            "8/8 - 1s - loss: 0.0537 - acc: 1.0000 - val_loss: 0.5181 - val_acc: 0.7325 - 677ms/epoch - 85ms/step\n",
            "Epoch 32/100\n",
            "8/8 - 1s - loss: 0.0496 - acc: 1.0000 - val_loss: 0.5155 - val_acc: 0.7325 - 639ms/epoch - 80ms/step\n",
            "Epoch 33/100\n",
            "8/8 - 1s - loss: 0.0464 - acc: 1.0000 - val_loss: 0.5175 - val_acc: 0.7281 - 654ms/epoch - 82ms/step\n",
            "Epoch 34/100\n",
            "8/8 - 1s - loss: 0.0443 - acc: 1.0000 - val_loss: 0.5235 - val_acc: 0.7237 - 649ms/epoch - 81ms/step\n",
            "Epoch 35/100\n",
            "8/8 - 1s - loss: 0.0410 - acc: 1.0000 - val_loss: 0.5160 - val_acc: 0.7325 - 646ms/epoch - 81ms/step\n",
            "Epoch 36/100\n",
            "8/8 - 1s - loss: 0.0386 - acc: 1.0000 - val_loss: 0.5159 - val_acc: 0.7325 - 654ms/epoch - 82ms/step\n",
            "Epoch 37/100\n",
            "8/8 - 1s - loss: 0.0361 - acc: 1.0000 - val_loss: 0.5169 - val_acc: 0.7325 - 644ms/epoch - 81ms/step\n",
            "Epoch 38/100\n",
            "8/8 - 1s - loss: 0.0340 - acc: 1.0000 - val_loss: 0.5191 - val_acc: 0.7325 - 647ms/epoch - 81ms/step\n",
            "Epoch 39/100\n",
            "8/8 - 1s - loss: 0.0324 - acc: 1.0000 - val_loss: 0.5190 - val_acc: 0.7237 - 647ms/epoch - 81ms/step\n",
            "Epoch 40/100\n",
            "8/8 - 1s - loss: 0.0302 - acc: 1.0000 - val_loss: 0.5232 - val_acc: 0.7281 - 639ms/epoch - 80ms/step\n",
            "Epoch 41/100\n",
            "8/8 - 1s - loss: 0.0286 - acc: 1.0000 - val_loss: 0.5219 - val_acc: 0.7237 - 659ms/epoch - 82ms/step\n",
            "Epoch 42/100\n",
            "8/8 - 1s - loss: 0.0277 - acc: 1.0000 - val_loss: 0.5316 - val_acc: 0.7281 - 656ms/epoch - 82ms/step\n",
            "Epoch 43/100\n",
            "8/8 - 1s - loss: 0.0262 - acc: 1.0000 - val_loss: 0.5256 - val_acc: 0.7193 - 641ms/epoch - 80ms/step\n",
            "Epoch 44/100\n",
            "8/8 - 1s - loss: 0.0248 - acc: 1.0000 - val_loss: 0.5278 - val_acc: 0.7325 - 653ms/epoch - 82ms/step\n",
            "Epoch 45/100\n",
            "8/8 - 1s - loss: 0.0236 - acc: 1.0000 - val_loss: 0.5300 - val_acc: 0.7281 - 651ms/epoch - 81ms/step\n",
            "Epoch 46/100\n",
            "8/8 - 1s - loss: 0.0226 - acc: 1.0000 - val_loss: 0.5285 - val_acc: 0.7193 - 634ms/epoch - 79ms/step\n",
            "Epoch 47/100\n",
            "8/8 - 1s - loss: 0.0217 - acc: 1.0000 - val_loss: 0.5276 - val_acc: 0.7412 - 678ms/epoch - 85ms/step\n",
            "Epoch 48/100\n",
            "8/8 - 1s - loss: 0.0206 - acc: 1.0000 - val_loss: 0.5352 - val_acc: 0.7325 - 643ms/epoch - 80ms/step\n",
            "Epoch 49/100\n",
            "8/8 - 1s - loss: 0.0201 - acc: 1.0000 - val_loss: 0.5303 - val_acc: 0.7237 - 696ms/epoch - 87ms/step\n",
            "Epoch 50/100\n",
            "8/8 - 1s - loss: 0.0185 - acc: 1.0000 - val_loss: 0.5344 - val_acc: 0.7281 - 693ms/epoch - 87ms/step\n",
            "Epoch 51/100\n",
            "8/8 - 1s - loss: 0.0179 - acc: 1.0000 - val_loss: 0.5325 - val_acc: 0.7368 - 648ms/epoch - 81ms/step\n",
            "Epoch 52/100\n",
            "8/8 - 1s - loss: 0.0172 - acc: 1.0000 - val_loss: 0.5341 - val_acc: 0.7237 - 655ms/epoch - 82ms/step\n",
            "Epoch 53/100\n",
            "8/8 - 1s - loss: 0.0167 - acc: 1.0000 - val_loss: 0.5382 - val_acc: 0.7281 - 651ms/epoch - 81ms/step\n",
            "Epoch 54/100\n",
            "8/8 - 1s - loss: 0.0157 - acc: 1.0000 - val_loss: 0.5345 - val_acc: 0.7281 - 648ms/epoch - 81ms/step\n",
            "Epoch 55/100\n",
            "8/8 - 1s - loss: 0.0148 - acc: 1.0000 - val_loss: 0.5368 - val_acc: 0.7368 - 651ms/epoch - 81ms/step\n",
            "Epoch 56/100\n",
            "8/8 - 1s - loss: 0.0142 - acc: 1.0000 - val_loss: 0.5362 - val_acc: 0.7325 - 661ms/epoch - 83ms/step\n",
            "Epoch 57/100\n",
            "8/8 - 1s - loss: 0.0138 - acc: 1.0000 - val_loss: 0.5377 - val_acc: 0.7368 - 644ms/epoch - 81ms/step\n",
            "Epoch 58/100\n",
            "8/8 - 1s - loss: 0.0132 - acc: 1.0000 - val_loss: 0.5377 - val_acc: 0.7325 - 654ms/epoch - 82ms/step\n",
            "Epoch 59/100\n",
            "8/8 - 1s - loss: 0.0128 - acc: 1.0000 - val_loss: 0.5390 - val_acc: 0.7325 - 660ms/epoch - 83ms/step\n",
            "Epoch 60/100\n",
            "8/8 - 1s - loss: 0.0124 - acc: 1.0000 - val_loss: 0.5422 - val_acc: 0.7412 - 655ms/epoch - 82ms/step\n",
            "Epoch 61/100\n",
            "8/8 - 1s - loss: 0.0119 - acc: 1.0000 - val_loss: 0.5412 - val_acc: 0.7368 - 654ms/epoch - 82ms/step\n",
            "Epoch 62/100\n",
            "8/8 - 1s - loss: 0.0114 - acc: 1.0000 - val_loss: 0.5445 - val_acc: 0.7368 - 662ms/epoch - 83ms/step\n",
            "Epoch 63/100\n",
            "8/8 - 1s - loss: 0.0112 - acc: 1.0000 - val_loss: 0.5435 - val_acc: 0.7368 - 658ms/epoch - 82ms/step\n",
            "Epoch 64/100\n",
            "8/8 - 1s - loss: 0.0106 - acc: 1.0000 - val_loss: 0.5470 - val_acc: 0.7412 - 650ms/epoch - 81ms/step\n",
            "Epoch 65/100\n",
            "8/8 - 1s - loss: 0.0103 - acc: 1.0000 - val_loss: 0.5460 - val_acc: 0.7325 - 644ms/epoch - 80ms/step\n",
            "Epoch 66/100\n",
            "8/8 - 1s - loss: 0.0099 - acc: 1.0000 - val_loss: 0.5499 - val_acc: 0.7368 - 656ms/epoch - 82ms/step\n",
            "Epoch 67/100\n",
            "8/8 - 1s - loss: 0.0098 - acc: 1.0000 - val_loss: 0.5485 - val_acc: 0.7368 - 667ms/epoch - 83ms/step\n",
            "Epoch 68/100\n",
            "8/8 - 1s - loss: 0.0094 - acc: 1.0000 - val_loss: 0.5493 - val_acc: 0.7368 - 694ms/epoch - 87ms/step\n",
            "Epoch 69/100\n",
            "8/8 - 1s - loss: 0.0091 - acc: 1.0000 - val_loss: 0.5503 - val_acc: 0.7412 - 709ms/epoch - 89ms/step\n",
            "Epoch 70/100\n",
            "8/8 - 1s - loss: 0.0088 - acc: 1.0000 - val_loss: 0.5501 - val_acc: 0.7325 - 718ms/epoch - 90ms/step\n",
            "Epoch 71/100\n",
            "8/8 - 1s - loss: 0.0086 - acc: 1.0000 - val_loss: 0.5515 - val_acc: 0.7412 - 691ms/epoch - 86ms/step\n",
            "Epoch 72/100\n",
            "8/8 - 1s - loss: 0.0082 - acc: 1.0000 - val_loss: 0.5526 - val_acc: 0.7412 - 663ms/epoch - 83ms/step\n",
            "Epoch 73/100\n",
            "8/8 - 1s - loss: 0.0080 - acc: 1.0000 - val_loss: 0.5540 - val_acc: 0.7412 - 659ms/epoch - 82ms/step\n",
            "Epoch 74/100\n",
            "8/8 - 1s - loss: 0.0078 - acc: 1.0000 - val_loss: 0.5535 - val_acc: 0.7325 - 653ms/epoch - 82ms/step\n",
            "Epoch 75/100\n",
            "8/8 - 1s - loss: 0.0075 - acc: 1.0000 - val_loss: 0.5546 - val_acc: 0.7325 - 668ms/epoch - 83ms/step\n",
            "Epoch 76/100\n",
            "8/8 - 1s - loss: 0.0073 - acc: 1.0000 - val_loss: 0.5572 - val_acc: 0.7412 - 654ms/epoch - 82ms/step\n",
            "Epoch 77/100\n",
            "8/8 - 1s - loss: 0.0072 - acc: 1.0000 - val_loss: 0.5566 - val_acc: 0.7325 - 637ms/epoch - 80ms/step\n",
            "Epoch 78/100\n",
            "8/8 - 1s - loss: 0.0070 - acc: 1.0000 - val_loss: 0.5580 - val_acc: 0.7412 - 704ms/epoch - 88ms/step\n",
            "Epoch 79/100\n",
            "8/8 - 1s - loss: 0.0068 - acc: 1.0000 - val_loss: 0.5595 - val_acc: 0.7412 - 663ms/epoch - 83ms/step\n",
            "Epoch 80/100\n",
            "8/8 - 1s - loss: 0.0066 - acc: 1.0000 - val_loss: 0.5598 - val_acc: 0.7412 - 643ms/epoch - 80ms/step\n",
            "Epoch 81/100\n",
            "8/8 - 1s - loss: 0.0065 - acc: 1.0000 - val_loss: 0.5607 - val_acc: 0.7412 - 651ms/epoch - 81ms/step\n",
            "Epoch 82/100\n",
            "8/8 - 1s - loss: 0.0063 - acc: 1.0000 - val_loss: 0.5609 - val_acc: 0.7325 - 657ms/epoch - 82ms/step\n",
            "Epoch 83/100\n",
            "8/8 - 1s - loss: 0.0060 - acc: 1.0000 - val_loss: 0.5641 - val_acc: 0.7412 - 690ms/epoch - 86ms/step\n",
            "Epoch 84/100\n",
            "8/8 - 1s - loss: 0.0059 - acc: 1.0000 - val_loss: 0.5631 - val_acc: 0.7368 - 688ms/epoch - 86ms/step\n",
            "Epoch 85/100\n",
            "8/8 - 1s - loss: 0.0057 - acc: 1.0000 - val_loss: 0.5642 - val_acc: 0.7368 - 652ms/epoch - 82ms/step\n",
            "Epoch 86/100\n",
            "8/8 - 1s - loss: 0.0056 - acc: 1.0000 - val_loss: 0.5653 - val_acc: 0.7368 - 656ms/epoch - 82ms/step\n",
            "Epoch 87/100\n",
            "8/8 - 1s - loss: 0.0055 - acc: 1.0000 - val_loss: 0.5660 - val_acc: 0.7368 - 728ms/epoch - 91ms/step\n",
            "Epoch 88/100\n",
            "8/8 - 1s - loss: 0.0053 - acc: 1.0000 - val_loss: 0.5673 - val_acc: 0.7412 - 1s/epoch - 173ms/step\n",
            "Epoch 89/100\n",
            "8/8 - 1s - loss: 0.0052 - acc: 1.0000 - val_loss: 0.5672 - val_acc: 0.7368 - 684ms/epoch - 85ms/step\n",
            "Epoch 90/100\n",
            "8/8 - 1s - loss: 0.0051 - acc: 1.0000 - val_loss: 0.5681 - val_acc: 0.7368 - 703ms/epoch - 88ms/step\n",
            "Epoch 91/100\n",
            "8/8 - 1s - loss: 0.0049 - acc: 1.0000 - val_loss: 0.5701 - val_acc: 0.7412 - 660ms/epoch - 82ms/step\n",
            "Epoch 92/100\n",
            "8/8 - 1s - loss: 0.0048 - acc: 1.0000 - val_loss: 0.5695 - val_acc: 0.7325 - 673ms/epoch - 84ms/step\n",
            "Epoch 93/100\n",
            "8/8 - 1s - loss: 0.0047 - acc: 1.0000 - val_loss: 0.5721 - val_acc: 0.7412 - 693ms/epoch - 87ms/step\n",
            "Epoch 94/100\n",
            "8/8 - 1s - loss: 0.0046 - acc: 1.0000 - val_loss: 0.5711 - val_acc: 0.7368 - 645ms/epoch - 81ms/step\n",
            "Epoch 95/100\n",
            "8/8 - 1s - loss: 0.0045 - acc: 1.0000 - val_loss: 0.5722 - val_acc: 0.7368 - 693ms/epoch - 87ms/step\n",
            "Epoch 96/100\n",
            "8/8 - 1s - loss: 0.0045 - acc: 1.0000 - val_loss: 0.5740 - val_acc: 0.7368 - 725ms/epoch - 91ms/step\n",
            "Epoch 97/100\n",
            "8/8 - 1s - loss: 0.0043 - acc: 1.0000 - val_loss: 0.5739 - val_acc: 0.7237 - 647ms/epoch - 81ms/step\n",
            "Epoch 98/100\n",
            "8/8 - 1s - loss: 0.0042 - acc: 1.0000 - val_loss: 0.5763 - val_acc: 0.7412 - 659ms/epoch - 82ms/step\n",
            "Epoch 99/100\n",
            "8/8 - 1s - loss: 0.0041 - acc: 1.0000 - val_loss: 0.5758 - val_acc: 0.7237 - 648ms/epoch - 81ms/step\n",
            "Epoch 100/100\n",
            "8/8 - 1s - loss: 0.0040 - acc: 1.0000 - val_loss: 0.5773 - val_acc: 0.7412 - 642ms/epoch - 80ms/step\n",
            "9/9 - 0s - loss: 0.5023 - acc: 0.8000 - 107ms/epoch - 12ms/step\n"
          ]
        }
      ]
    },
    {
      "cell_type": "code",
      "source": [
        "print(\"Test Score:\", score[0])\n",
        "print(\"Test Accuracy:\", score[1])"
      ],
      "metadata": {
        "colab": {
          "base_uri": "https://localhost:8080/"
        },
        "id": "jNzGrToGw42W",
        "outputId": "f0761a67-2f13-4df3-8cf3-9109f3821032"
      },
      "execution_count": null,
      "outputs": [
        {
          "output_type": "stream",
          "name": "stdout",
          "text": [
            "Test Score: 0.5023395419120789\n",
            "Test Accuracy: 0.800000011920929\n"
          ]
        }
      ]
    },
    {
      "cell_type": "code",
      "source": [
        "import matplotlib.pyplot as plt\n",
        "\n",
        "plt.plot(history.history['acc'])\n",
        "plt.plot(history.history['val_acc'])\n",
        "\n",
        "plt.title('model accuracy')\n",
        "plt.ylabel('accuracy')\n",
        "plt.xlabel('epoch')\n",
        "plt.legend(['train','test'], loc = 'upper left')\n",
        "plt.show()\n",
        "\n",
        "plt.plot(history.history['loss'])\n",
        "plt.plot(history.history['val_loss'])\n",
        "\n",
        "plt.title('model loss')\n",
        "plt.ylabel('loss')\n",
        "plt.xlabel('epoch')\n",
        "plt.legend(['train','test'], loc = 'upper left')\n",
        "plt.show()"
      ],
      "metadata": {
        "colab": {
          "base_uri": "https://localhost:8080/",
          "height": 573
        },
        "id": "IA-PBK7kwBx8",
        "outputId": "4bc88574-4c6d-4874-a634-e9d43fb5d8c1"
      },
      "execution_count": null,
      "outputs": [
        {
          "output_type": "display_data",
          "data": {
            "text/plain": [
              "<Figure size 432x288 with 1 Axes>"
            ],
            "image/png": "[encoded data removed]"
          },
          "metadata": {
            "needs_background": "light"
          }
        },
        {
          "output_type": "display_data",
          "data": {
            "text/plain": [
              "<Figure size 432x288 with 1 Axes>"
            ],
            "image/png": "[encoded data removed]"
          },
          "metadata": {
            "needs_background": "light"
          }
        }
      ]
    },
    {
      "cell_type": "code",
      "source": [],
      "metadata": {
        "id": "_JSd9FpFwB0j"
      },
      "execution_count": null,
      "outputs": []
    },
    {
      "cell_type": "code",
      "metadata": {
        "execution": {
          "iopub.execute_input": "2021-05-03T15:41:18.090177Z",
          "iopub.status.busy": "2021-05-03T15:41:18.089337Z",
          "iopub.status.idle": "2021-05-03T15:41:18.227933Z",
          "shell.execute_reply": "2021-05-03T15:41:18.227350Z"
        },
        "papermill": {
          "duration": 0.284458,
          "end_time": "2021-05-03T15:41:18.228093",
          "exception": false,
          "start_time": "2021-05-03T15:41:17.943635",
          "status": "completed"
        },
        "tags": [],
        "id": "fe3d8lUxxxw1"
      },
      "source": [
        "y_pred = model.predict(X_test)\n",
        "y_pred = (y_pred > 0.5)"
      ],
      "execution_count": null,
      "outputs": []
    },
    {
      "cell_type": "code",
      "metadata": {
        "execution": {
          "iopub.execute_input": "2021-05-03T15:41:18.541214Z",
          "iopub.status.busy": "2021-05-03T15:41:18.540342Z",
          "iopub.status.idle": "2021-05-03T15:41:18.549846Z",
          "shell.execute_reply": "2021-05-03T15:41:18.549328Z"
        },
        "papermill": {
          "duration": 0.174404,
          "end_time": "2021-05-03T15:41:18.549971",
          "exception": false,
          "start_time": "2021-05-03T15:41:18.375567",
          "status": "completed"
        },
        "tags": [],
        "colab": {
          "base_uri": "https://localhost:8080/"
        },
        "outputId": "217bb3a6-de67-4110-a8e5-cf12a74cf7dc",
        "id": "NKZfVE9Mxxw2"
      },
      "source": [
        "from sklearn.metrics import confusion_matrix\n",
        "cm = confusion_matrix(y_test, y_pred)\n",
        "cm"
      ],
      "execution_count": null,
      "outputs": [
        {
          "output_type": "execute_result",
          "data": {
            "text/plain": [
              "array([[115,  26],\n",
              "       [ 31, 113]])"
            ]
          },
          "metadata": {},
          "execution_count": 130
        }
      ]
    },
    {
      "cell_type": "code",
      "source": [
        "from sklearn.metrics import accuracy_score\n",
        "accuracy_score (y_test,y_pred )"
      ],
      "metadata": {
        "colab": {
          "base_uri": "https://localhost:8080/"
        },
        "outputId": "84ca7e7b-f48c-4292-d1c2-d71c0b814ae2",
        "id": "syrKIFCLxxw2"
      },
      "execution_count": null,
      "outputs": [
        {
          "output_type": "execute_result",
          "data": {
            "text/plain": [
              "0.8"
            ]
          },
          "metadata": {},
          "execution_count": 131
        }
      ]
    },
    {
      "cell_type": "code",
      "source": [],
      "metadata": {
        "id": "FMNnjQaLxrfu"
      },
      "execution_count": null,
      "outputs": []
    },
    {
      "cell_type": "code",
      "source": [],
      "metadata": {
        "id": "wg_CaR1zyrkd"
      },
      "execution_count": null,
      "outputs": []
    },
    {
      "cell_type": "code",
      "source": [],
      "metadata": {
        "id": "RNnLBD2KyrnP"
      },
      "execution_count": null,
      "outputs": []
    },
    {
      "cell_type": "markdown",
      "source": [
        "**Text Classification with Recurrent Neural Network (LSTM)**"
      ],
      "metadata": {
        "id": "3k3GWqWXy2S6"
      }
    },
    {
      "cell_type": "code",
      "source": [
        "from keras.layers import LSTM\n",
        "\n",
        "model = Sequential()\n",
        "embedding_layer = Embedding(vocab_size, 100, weights=[embedding_matrix], input_length=maxlen , trainable=False)\n",
        "model.add(embedding_layer)\n",
        "model.add(LSTM(128))\n",
        "\n",
        "model.add(Dense(1, activation='sigmoid'))\n",
        "model.compile(optimizer='adam', loss='binary_crossentropy', metrics=['acc'])"
      ],
      "metadata": {
        "id": "WJGNmnaYyrqz"
      },
      "execution_count": null,
      "outputs": []
    },
    {
      "cell_type": "code",
      "source": [
        "print(model.summary())"
      ],
      "metadata": {
        "colab": {
          "base_uri": "https://localhost:8080/"
        },
        "id": "wjyRyyCjy4p6",
        "outputId": "07da5ce9-4faf-46a5-b050-75fe82cdbad4"
      },
      "execution_count": null,
      "outputs": [
        {
          "output_type": "stream",
          "name": "stdout",
          "text": [
            "Model: \"sequential_14\"\n",
            "_________________________________________________________________\n",
            " Layer (type)                Output Shape              Param #   \n",
            "=================================================================\n",
            " embedding_11 (Embedding)    (None, 100, 100)          1846400   \n",
            "                                                                 \n",
            " lstm (LSTM)                 (None, 128)               117248    \n",
            "                                                                 \n",
            " dense_8 (Dense)             (None, 1)                 129       \n",
            "                                                                 \n",
            "=================================================================\n",
            "Total params: 1,963,777\n",
            "Trainable params: 117,377\n",
            "Non-trainable params: 1,846,400\n",
            "_________________________________________________________________\n",
            "None\n"
          ]
        }
      ]
    },
    {
      "cell_type": "code",
      "source": [
        "history = model.fit(X_train, y_train, batch_size=128, epochs=100, verbose=2, validation_split=0.2)\n",
        "\n",
        "score = model.evaluate(X_test, y_test, verbose=2)"
      ],
      "metadata": {
        "colab": {
          "base_uri": "https://localhost:8080/"
        },
        "id": "zw3VcCl1y4tT",
        "outputId": "11f5f6fc-f215-4a49-c407-7fb88704d9a1"
      },
      "execution_count": null,
      "outputs": [
        {
          "output_type": "stream",
          "name": "stdout",
          "text": [
            "Epoch 1/100\n",
            "8/8 - 6s - loss: 0.6959 - acc: 0.5252 - val_loss: 0.7071 - val_acc: 0.4868 - 6s/epoch - 758ms/step\n",
            "Epoch 2/100\n",
            "8/8 - 3s - loss: 0.6701 - acc: 0.5910 - val_loss: 0.6796 - val_acc: 0.5570 - 3s/epoch - 325ms/step\n",
            "Epoch 3/100\n",
            "8/8 - 3s - loss: 0.6550 - acc: 0.6623 - val_loss: 0.6823 - val_acc: 0.5614 - 3s/epoch - 333ms/step\n",
            "Epoch 4/100\n",
            "8/8 - 3s - loss: 0.6473 - acc: 0.6316 - val_loss: 0.6730 - val_acc: 0.5789 - 3s/epoch - 334ms/step\n",
            "Epoch 5/100\n",
            "8/8 - 3s - loss: 0.6175 - acc: 0.6853 - val_loss: 0.6494 - val_acc: 0.6360 - 3s/epoch - 334ms/step\n",
            "Epoch 6/100\n",
            "8/8 - 3s - loss: 0.5845 - acc: 0.6985 - val_loss: 0.8289 - val_acc: 0.5351 - 3s/epoch - 326ms/step\n",
            "Epoch 7/100\n",
            "8/8 - 3s - loss: 0.6080 - acc: 0.6557 - val_loss: 0.6678 - val_acc: 0.5965 - 3s/epoch - 322ms/step\n",
            "Epoch 8/100\n",
            "8/8 - 3s - loss: 0.5860 - acc: 0.7029 - val_loss: 0.6583 - val_acc: 0.5833 - 3s/epoch - 351ms/step\n",
            "Epoch 9/100\n",
            "8/8 - 3s - loss: 0.5548 - acc: 0.7094 - val_loss: 0.6865 - val_acc: 0.5789 - 3s/epoch - 332ms/step\n",
            "Epoch 10/100\n",
            "8/8 - 3s - loss: 0.5127 - acc: 0.7390 - val_loss: 0.6330 - val_acc: 0.6886 - 3s/epoch - 365ms/step\n",
            "Epoch 11/100\n",
            "8/8 - 3s - loss: 0.4744 - acc: 0.7610 - val_loss: 0.7372 - val_acc: 0.5965 - 3s/epoch - 322ms/step\n",
            "Epoch 12/100\n",
            "8/8 - 3s - loss: 0.4955 - acc: 0.7412 - val_loss: 0.7105 - val_acc: 0.6316 - 3s/epoch - 314ms/step\n",
            "Epoch 13/100\n",
            "8/8 - 3s - loss: 0.6106 - acc: 0.6524 - val_loss: 0.6727 - val_acc: 0.6053 - 3s/epoch - 317ms/step\n",
            "Epoch 14/100\n",
            "8/8 - 3s - loss: 0.5509 - acc: 0.7215 - val_loss: 0.6518 - val_acc: 0.6053 - 3s/epoch - 349ms/step\n",
            "Epoch 15/100\n",
            "8/8 - 4s - loss: 0.5178 - acc: 0.7500 - val_loss: 0.6537 - val_acc: 0.6535 - 4s/epoch - 522ms/step\n",
            "Epoch 16/100\n",
            "8/8 - 3s - loss: 0.4890 - acc: 0.7774 - val_loss: 0.6165 - val_acc: 0.6842 - 3s/epoch - 314ms/step\n",
            "Epoch 17/100\n",
            "8/8 - 3s - loss: 0.4241 - acc: 0.8070 - val_loss: 0.6535 - val_acc: 0.7105 - 3s/epoch - 325ms/step\n",
            "Epoch 18/100\n",
            "8/8 - 3s - loss: 0.4377 - acc: 0.7862 - val_loss: 0.6462 - val_acc: 0.6447 - 3s/epoch - 327ms/step\n",
            "Epoch 19/100\n",
            "8/8 - 3s - loss: 0.3969 - acc: 0.8300 - val_loss: 0.6512 - val_acc: 0.7237 - 3s/epoch - 320ms/step\n",
            "Epoch 20/100\n",
            "8/8 - 3s - loss: 0.4287 - acc: 0.7906 - val_loss: 0.6335 - val_acc: 0.6579 - 3s/epoch - 317ms/step\n",
            "Epoch 21/100\n",
            "8/8 - 3s - loss: 0.4319 - acc: 0.7917 - val_loss: 0.6489 - val_acc: 0.6711 - 3s/epoch - 320ms/step\n",
            "Epoch 22/100\n",
            "8/8 - 4s - loss: 0.3944 - acc: 0.8355 - val_loss: 0.6576 - val_acc: 0.6535 - 4s/epoch - 483ms/step\n",
            "Epoch 23/100\n",
            "8/8 - 3s - loss: 0.3811 - acc: 0.8366 - val_loss: 0.6982 - val_acc: 0.6667 - 3s/epoch - 319ms/step\n",
            "Epoch 24/100\n",
            "8/8 - 3s - loss: 0.3546 - acc: 0.8443 - val_loss: 0.7458 - val_acc: 0.6754 - 3s/epoch - 322ms/step\n",
            "Epoch 25/100\n",
            "8/8 - 3s - loss: 0.3897 - acc: 0.8300 - val_loss: 0.6986 - val_acc: 0.6404 - 3s/epoch - 337ms/step\n",
            "Epoch 26/100\n",
            "8/8 - 3s - loss: 0.3578 - acc: 0.8399 - val_loss: 0.6511 - val_acc: 0.7237 - 3s/epoch - 331ms/step\n",
            "Epoch 27/100\n",
            "8/8 - 3s - loss: 0.3197 - acc: 0.8564 - val_loss: 0.6325 - val_acc: 0.7149 - 3s/epoch - 334ms/step\n",
            "Epoch 28/100\n",
            "8/8 - 3s - loss: 0.2845 - acc: 0.8914 - val_loss: 0.9020 - val_acc: 0.6535 - 3s/epoch - 319ms/step\n",
            "Epoch 29/100\n",
            "8/8 - 3s - loss: 0.3270 - acc: 0.8607 - val_loss: 0.7176 - val_acc: 0.6842 - 3s/epoch - 328ms/step\n",
            "Epoch 30/100\n",
            "8/8 - 3s - loss: 0.2684 - acc: 0.8991 - val_loss: 0.7876 - val_acc: 0.6930 - 3s/epoch - 328ms/step\n",
            "Epoch 31/100\n",
            "8/8 - 3s - loss: 0.2796 - acc: 0.8772 - val_loss: 0.7237 - val_acc: 0.6798 - 3s/epoch - 325ms/step\n",
            "Epoch 32/100\n",
            "8/8 - 3s - loss: 0.2565 - acc: 0.9046 - val_loss: 0.8204 - val_acc: 0.7193 - 3s/epoch - 368ms/step\n",
            "Epoch 33/100\n",
            "8/8 - 3s - loss: 0.3381 - acc: 0.8618 - val_loss: 0.7257 - val_acc: 0.6535 - 3s/epoch - 319ms/step\n",
            "Epoch 34/100\n",
            "8/8 - 3s - loss: 0.3310 - acc: 0.8827 - val_loss: 0.7378 - val_acc: 0.6667 - 3s/epoch - 316ms/step\n",
            "Epoch 35/100\n",
            "8/8 - 3s - loss: 0.2417 - acc: 0.9156 - val_loss: 0.8107 - val_acc: 0.7105 - 3s/epoch - 319ms/step\n",
            "Epoch 36/100\n",
            "8/8 - 3s - loss: 0.2070 - acc: 0.9232 - val_loss: 0.8922 - val_acc: 0.6711 - 3s/epoch - 320ms/step\n",
            "Epoch 37/100\n",
            "8/8 - 3s - loss: 0.1811 - acc: 0.9353 - val_loss: 0.8674 - val_acc: 0.7237 - 3s/epoch - 433ms/step\n",
            "Epoch 38/100\n",
            "8/8 - 3s - loss: 0.1608 - acc: 0.9452 - val_loss: 0.9259 - val_acc: 0.6798 - 3s/epoch - 323ms/step\n",
            "Epoch 39/100\n",
            "8/8 - 3s - loss: 0.2820 - acc: 0.8783 - val_loss: 0.7708 - val_acc: 0.6711 - 3s/epoch - 328ms/step\n",
            "Epoch 40/100\n",
            "8/8 - 3s - loss: 0.3801 - acc: 0.8268 - val_loss: 0.7472 - val_acc: 0.6009 - 3s/epoch - 384ms/step\n",
            "Epoch 41/100\n",
            "8/8 - 3s - loss: 0.4414 - acc: 0.8092 - val_loss: 0.7272 - val_acc: 0.5921 - 3s/epoch - 377ms/step\n",
            "Epoch 42/100\n",
            "8/8 - 3s - loss: 0.3653 - acc: 0.8706 - val_loss: 0.7329 - val_acc: 0.6404 - 3s/epoch - 349ms/step\n",
            "Epoch 43/100\n",
            "8/8 - 3s - loss: 0.2434 - acc: 0.9145 - val_loss: 0.8021 - val_acc: 0.7105 - 3s/epoch - 341ms/step\n",
            "Epoch 44/100\n",
            "8/8 - 3s - loss: 0.1906 - acc: 0.9254 - val_loss: 0.8595 - val_acc: 0.6842 - 3s/epoch - 320ms/step\n",
            "Epoch 45/100\n",
            "8/8 - 3s - loss: 0.1887 - acc: 0.9265 - val_loss: 0.8522 - val_acc: 0.7018 - 3s/epoch - 319ms/step\n",
            "Epoch 46/100\n",
            "8/8 - 3s - loss: 0.1579 - acc: 0.9561 - val_loss: 0.8912 - val_acc: 0.6798 - 3s/epoch - 329ms/step\n",
            "Epoch 47/100\n",
            "8/8 - 3s - loss: 0.1245 - acc: 0.9649 - val_loss: 0.9830 - val_acc: 0.6886 - 3s/epoch - 329ms/step\n",
            "Epoch 48/100\n",
            "8/8 - 3s - loss: 0.2003 - acc: 0.9276 - val_loss: 0.9547 - val_acc: 0.6140 - 3s/epoch - 339ms/step\n",
            "Epoch 49/100\n",
            "8/8 - 3s - loss: 0.3643 - acc: 0.8564 - val_loss: 0.7317 - val_acc: 0.6623 - 3s/epoch - 320ms/step\n",
            "Epoch 50/100\n",
            "8/8 - 3s - loss: 0.2799 - acc: 0.8816 - val_loss: 0.7534 - val_acc: 0.7061 - 3s/epoch - 322ms/step\n",
            "Epoch 51/100\n",
            "8/8 - 5s - loss: 0.2164 - acc: 0.9178 - val_loss: 0.7872 - val_acc: 0.6974 - 5s/epoch - 569ms/step\n",
            "Epoch 52/100\n",
            "8/8 - 3s - loss: 0.1699 - acc: 0.9408 - val_loss: 0.8360 - val_acc: 0.6886 - 3s/epoch - 321ms/step\n",
            "Epoch 53/100\n",
            "8/8 - 3s - loss: 0.1344 - acc: 0.9660 - val_loss: 0.9578 - val_acc: 0.6754 - 3s/epoch - 323ms/step\n",
            "Epoch 54/100\n",
            "8/8 - 3s - loss: 0.1199 - acc: 0.9649 - val_loss: 1.0012 - val_acc: 0.6842 - 3s/epoch - 319ms/step\n",
            "Epoch 55/100\n",
            "8/8 - 3s - loss: 0.0980 - acc: 0.9726 - val_loss: 0.9998 - val_acc: 0.6974 - 3s/epoch - 322ms/step\n",
            "Epoch 56/100\n",
            "8/8 - 3s - loss: 0.0742 - acc: 0.9814 - val_loss: 1.0864 - val_acc: 0.6667 - 3s/epoch - 321ms/step\n",
            "Epoch 57/100\n",
            "8/8 - 3s - loss: 0.1678 - acc: 0.9386 - val_loss: 1.0129 - val_acc: 0.6360 - 3s/epoch - 316ms/step\n",
            "Epoch 58/100\n",
            "8/8 - 3s - loss: 0.1126 - acc: 0.9649 - val_loss: 0.9509 - val_acc: 0.6798 - 3s/epoch - 328ms/step\n",
            "Epoch 59/100\n",
            "8/8 - 3s - loss: 0.1013 - acc: 0.9726 - val_loss: 1.0283 - val_acc: 0.6842 - 3s/epoch - 323ms/step\n",
            "Epoch 60/100\n",
            "8/8 - 3s - loss: 0.0941 - acc: 0.9737 - val_loss: 1.0993 - val_acc: 0.6535 - 3s/epoch - 324ms/step\n",
            "Epoch 61/100\n",
            "8/8 - 3s - loss: 0.0822 - acc: 0.9836 - val_loss: 1.0406 - val_acc: 0.6798 - 3s/epoch - 323ms/step\n",
            "Epoch 62/100\n",
            "8/8 - 3s - loss: 0.0563 - acc: 0.9901 - val_loss: 1.2028 - val_acc: 0.6623 - 3s/epoch - 322ms/step\n",
            "Epoch 63/100\n",
            "8/8 - 3s - loss: 0.0443 - acc: 0.9890 - val_loss: 1.2922 - val_acc: 0.6535 - 3s/epoch - 318ms/step\n",
            "Epoch 64/100\n",
            "8/8 - 3s - loss: 0.0450 - acc: 0.9945 - val_loss: 1.3040 - val_acc: 0.6711 - 3s/epoch - 318ms/step\n",
            "Epoch 65/100\n",
            "8/8 - 3s - loss: 0.0318 - acc: 0.9967 - val_loss: 1.3977 - val_acc: 0.6491 - 3s/epoch - 313ms/step\n",
            "Epoch 66/100\n",
            "8/8 - 3s - loss: 0.0377 - acc: 0.9956 - val_loss: 1.3500 - val_acc: 0.6754 - 3s/epoch - 313ms/step\n",
            "Epoch 67/100\n",
            "8/8 - 3s - loss: 0.0407 - acc: 0.9879 - val_loss: 1.3728 - val_acc: 0.6535 - 3s/epoch - 332ms/step\n",
            "Epoch 68/100\n",
            "8/8 - 3s - loss: 0.0276 - acc: 0.9978 - val_loss: 1.3416 - val_acc: 0.6754 - 3s/epoch - 326ms/step\n",
            "Epoch 69/100\n",
            "8/8 - 3s - loss: 0.0231 - acc: 0.9978 - val_loss: 1.4280 - val_acc: 0.6535 - 3s/epoch - 319ms/step\n",
            "Epoch 70/100\n",
            "8/8 - 3s - loss: 0.0200 - acc: 0.9978 - val_loss: 1.4318 - val_acc: 0.6711 - 3s/epoch - 324ms/step\n",
            "Epoch 71/100\n",
            "8/8 - 3s - loss: 0.0174 - acc: 0.9978 - val_loss: 1.4927 - val_acc: 0.6623 - 3s/epoch - 317ms/step\n",
            "Epoch 72/100\n",
            "8/8 - 3s - loss: 0.0129 - acc: 0.9978 - val_loss: 1.5374 - val_acc: 0.6754 - 3s/epoch - 327ms/step\n",
            "Epoch 73/100\n",
            "8/8 - 3s - loss: 0.0108 - acc: 0.9978 - val_loss: 1.5684 - val_acc: 0.6798 - 3s/epoch - 319ms/step\n",
            "Epoch 74/100\n",
            "8/8 - 3s - loss: 0.0135 - acc: 0.9978 - val_loss: 1.6024 - val_acc: 0.6798 - 3s/epoch - 324ms/step\n",
            "Epoch 75/100\n",
            "8/8 - 3s - loss: 0.0118 - acc: 0.9978 - val_loss: 1.6185 - val_acc: 0.6579 - 3s/epoch - 333ms/step\n",
            "Epoch 76/100\n",
            "8/8 - 3s - loss: 0.0104 - acc: 0.9967 - val_loss: 1.6343 - val_acc: 0.6667 - 3s/epoch - 333ms/step\n",
            "Epoch 77/100\n",
            "8/8 - 3s - loss: 0.0075 - acc: 0.9989 - val_loss: 1.6399 - val_acc: 0.6842 - 3s/epoch - 322ms/step\n",
            "Epoch 78/100\n",
            "8/8 - 3s - loss: 0.0059 - acc: 0.9978 - val_loss: 1.7035 - val_acc: 0.6667 - 3s/epoch - 318ms/step\n",
            "Epoch 79/100\n",
            "8/8 - 3s - loss: 0.0121 - acc: 0.9989 - val_loss: 1.7268 - val_acc: 0.6798 - 3s/epoch - 336ms/step\n",
            "Epoch 80/100\n",
            "8/8 - 3s - loss: 0.0058 - acc: 0.9989 - val_loss: 1.6944 - val_acc: 0.6842 - 3s/epoch - 321ms/step\n",
            "Epoch 81/100\n",
            "8/8 - 3s - loss: 0.0048 - acc: 0.9989 - val_loss: 1.7257 - val_acc: 0.6754 - 3s/epoch - 318ms/step\n",
            "Epoch 82/100\n",
            "8/8 - 3s - loss: 0.0033 - acc: 1.0000 - val_loss: 1.7286 - val_acc: 0.6711 - 3s/epoch - 318ms/step\n",
            "Epoch 83/100\n",
            "8/8 - 3s - loss: 0.0037 - acc: 1.0000 - val_loss: 1.7738 - val_acc: 0.6842 - 3s/epoch - 323ms/step\n",
            "Epoch 84/100\n",
            "8/8 - 3s - loss: 0.0040 - acc: 1.0000 - val_loss: 1.7580 - val_acc: 0.6623 - 3s/epoch - 321ms/step\n",
            "Epoch 85/100\n",
            "8/8 - 3s - loss: 0.1252 - acc: 0.9583 - val_loss: 1.4562 - val_acc: 0.6842 - 3s/epoch - 318ms/step\n",
            "Epoch 86/100\n",
            "8/8 - 3s - loss: 0.1997 - acc: 0.9200 - val_loss: 0.7863 - val_acc: 0.6930 - 3s/epoch - 321ms/step\n",
            "Epoch 87/100\n",
            "8/8 - 3s - loss: 0.1809 - acc: 0.9309 - val_loss: 0.7284 - val_acc: 0.7018 - 3s/epoch - 319ms/step\n",
            "Epoch 88/100\n",
            "8/8 - 3s - loss: 0.1872 - acc: 0.9474 - val_loss: 0.7932 - val_acc: 0.6623 - 3s/epoch - 317ms/step\n",
            "Epoch 89/100\n",
            "8/8 - 3s - loss: 0.1813 - acc: 0.9298 - val_loss: 0.9582 - val_acc: 0.6886 - 3s/epoch - 317ms/step\n",
            "Epoch 90/100\n",
            "8/8 - 3s - loss: 0.1381 - acc: 0.9518 - val_loss: 0.9175 - val_acc: 0.6798 - 3s/epoch - 319ms/step\n",
            "Epoch 91/100\n",
            "8/8 - 3s - loss: 0.0979 - acc: 0.9715 - val_loss: 0.9981 - val_acc: 0.7018 - 3s/epoch - 317ms/step\n",
            "Epoch 92/100\n",
            "8/8 - 3s - loss: 0.1122 - acc: 0.9561 - val_loss: 1.0084 - val_acc: 0.6886 - 3s/epoch - 321ms/step\n",
            "Epoch 93/100\n",
            "8/8 - 3s - loss: 0.0653 - acc: 0.9912 - val_loss: 1.0929 - val_acc: 0.6798 - 3s/epoch - 321ms/step\n",
            "Epoch 94/100\n",
            "8/8 - 3s - loss: 0.0484 - acc: 0.9934 - val_loss: 1.1152 - val_acc: 0.7018 - 3s/epoch - 320ms/step\n",
            "Epoch 95/100\n",
            "8/8 - 3s - loss: 0.0324 - acc: 0.9956 - val_loss: 1.2023 - val_acc: 0.6798 - 3s/epoch - 321ms/step\n",
            "Epoch 96/100\n",
            "8/8 - 3s - loss: 0.0230 - acc: 0.9967 - val_loss: 1.2828 - val_acc: 0.6754 - 3s/epoch - 316ms/step\n",
            "Epoch 97/100\n",
            "8/8 - 3s - loss: 0.0192 - acc: 0.9978 - val_loss: 1.3425 - val_acc: 0.6798 - 3s/epoch - 318ms/step\n",
            "Epoch 98/100\n",
            "8/8 - 3s - loss: 0.0153 - acc: 0.9978 - val_loss: 1.3814 - val_acc: 0.6754 - 3s/epoch - 322ms/step\n",
            "Epoch 99/100\n",
            "8/8 - 3s - loss: 0.0118 - acc: 1.0000 - val_loss: 1.4110 - val_acc: 0.6842 - 3s/epoch - 320ms/step\n",
            "Epoch 100/100\n",
            "8/8 - 3s - loss: 0.0111 - acc: 0.9978 - val_loss: 1.4364 - val_acc: 0.6886 - 3s/epoch - 323ms/step\n",
            "9/9 - 0s - loss: 1.0264 - acc: 0.7368 - 286ms/epoch - 32ms/step\n"
          ]
        }
      ]
    },
    {
      "cell_type": "code",
      "source": [
        "print(\"Test Score:\", score[0])\n",
        "print(\"Test Accuracy:\", score[1])"
      ],
      "metadata": {
        "colab": {
          "base_uri": "https://localhost:8080/"
        },
        "id": "0vDpPphPy4wu",
        "outputId": "628cbb45-b205-4057-b61a-d84676287f43"
      },
      "execution_count": null,
      "outputs": [
        {
          "output_type": "stream",
          "name": "stdout",
          "text": [
            "Test Score: 1.0264098644256592\n",
            "Test Accuracy: 0.7368420958518982\n"
          ]
        }
      ]
    },
    {
      "cell_type": "code",
      "source": [
        "import matplotlib.pyplot as plt\n",
        "\n",
        "plt.plot(history.history['acc'])\n",
        "plt.plot(history.history['val_acc'])\n",
        "\n",
        "plt.title('model accuracy')\n",
        "plt.ylabel('accuracy')\n",
        "plt.xlabel('epoch')\n",
        "plt.legend(['train','test'], loc='upper left')\n",
        "plt.show()\n",
        "\n",
        "plt.plot(history.history['loss'])\n",
        "plt.plot(history.history['val_loss'])\n",
        "\n",
        "plt.title('model loss')\n",
        "plt.ylabel('loss')\n",
        "plt.xlabel('epoch')\n",
        "plt.legend(['train','test'], loc='upper left')\n",
        "plt.show()"
      ],
      "metadata": {
        "colab": {
          "base_uri": "https://localhost:8080/",
          "height": 573
        },
        "id": "m5kxU7GWzRhP",
        "outputId": "5349349e-465b-48d9-9e7b-38b55888fba0"
      },
      "execution_count": null,
      "outputs": [
        {
          "output_type": "display_data",
          "data": {
            "text/plain": [
              "<Figure size 432x288 with 1 Axes>"
            ],
            "image/png": "[encoded data removed]"
          },
          "metadata": {
            "needs_background": "light"
          }
        },
        {
          "output_type": "display_data",
          "data": {
            "text/plain": [
              "<Figure size 432x288 with 1 Axes>"
            ],
            "image/png": "[encoded data removed]"
          },
          "metadata": {
            "needs_background": "light"
          }
        }
      ]
    },
    {
      "cell_type": "code",
      "metadata": {
        "execution": {
          "iopub.execute_input": "2021-05-03T15:41:18.090177Z",
          "iopub.status.busy": "2021-05-03T15:41:18.089337Z",
          "iopub.status.idle": "2021-05-03T15:41:18.227933Z",
          "shell.execute_reply": "2021-05-03T15:41:18.227350Z"
        },
        "papermill": {
          "duration": 0.284458,
          "end_time": "2021-05-03T15:41:18.228093",
          "exception": false,
          "start_time": "2021-05-03T15:41:17.943635",
          "status": "completed"
        },
        "tags": [],
        "id": "cFr9t6Nyzd4_"
      },
      "source": [
        "y_pred = model.predict(X_test)\n",
        "y_pred = (y_pred > 0.5)"
      ],
      "execution_count": null,
      "outputs": []
    },
    {
      "cell_type": "code",
      "metadata": {
        "execution": {
          "iopub.execute_input": "2021-05-03T15:41:18.541214Z",
          "iopub.status.busy": "2021-05-03T15:41:18.540342Z",
          "iopub.status.idle": "2021-05-03T15:41:18.549846Z",
          "shell.execute_reply": "2021-05-03T15:41:18.549328Z"
        },
        "papermill": {
          "duration": 0.174404,
          "end_time": "2021-05-03T15:41:18.549971",
          "exception": false,
          "start_time": "2021-05-03T15:41:18.375567",
          "status": "completed"
        },
        "tags": [],
        "colab": {
          "base_uri": "https://localhost:8080/"
        },
        "outputId": "872e53cd-f781-4db8-bac0-15b76b63468e",
        "id": "w27ym0wgzd5A"
      },
      "source": [
        "from sklearn.metrics import confusion_matrix\n",
        "cm = confusion_matrix(y_test, y_pred)\n",
        "cm"
      ],
      "execution_count": null,
      "outputs": [
        {
          "output_type": "execute_result",
          "data": {
            "text/plain": [
              "array([[102,  39],\n",
              "       [ 36, 108]])"
            ]
          },
          "metadata": {},
          "execution_count": 141
        }
      ]
    },
    {
      "cell_type": "code",
      "source": [
        "from sklearn.metrics import accuracy_score\n",
        "accuracy_score (y_test,y_pred )"
      ],
      "metadata": {
        "colab": {
          "base_uri": "https://localhost:8080/"
        },
        "outputId": "05a1f0d1-fc1f-4300-e696-068b963f4c07",
        "id": "ssqpJ3c9zd5A"
      },
      "execution_count": null,
      "outputs": [
        {
          "output_type": "execute_result",
          "data": {
            "text/plain": [
              "0.7368421052631579"
            ]
          },
          "metadata": {},
          "execution_count": 142
        }
      ]
    },
    {
      "cell_type": "code",
      "source": [],
      "metadata": {
        "id": "-y7UbBvfzRkm"
      },
      "execution_count": null,
      "outputs": []
    }
  ]
}